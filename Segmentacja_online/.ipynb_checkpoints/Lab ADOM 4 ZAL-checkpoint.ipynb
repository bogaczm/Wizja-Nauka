{
 "cells": [
  {
   "cell_type": "markdown",
   "metadata": {},
   "source": [
    "# **Laboratorium ADOM 4 - ZALICZENIE**\n",
    "---\n"
   ]
  },
  {
   "cell_type": "markdown",
   "metadata": {},
   "source": [
    "**Napisz program realizujący zadanie wykrywania ruchu obiektu o zadanym kolorze** W szczególności program powinien realizować następujące zadania:\n",
    "\n",
    "- na bieżąco odczytywać obraz z kamery lub wczytywać sekwencję wideo z pliku\n",
    "- dla ustalonych \"na sztywno\" parametrów realizować zadanie filtracji i segmentacji w celu wykrycia określonego obiektu\n",
    "- określać czy konkretny obiekt znajduje się w ruchu czy też nie oraz zygnalizować ten fakt w dowolny sposób\n",
    "\n",
    "W nagłówku programu, w komentarzu, należy podać swoje dane - imię, nazwisko oraz datę. Każdy istotny element kodu oraz kluczowe zmienne należy opatrzeć komentarzami.\n",
    "\n",
    "Plikowi należy nadać nazwę `ADOM4zal_Imię_Nazwisko.py`, do programu należy dołączyć dwa nagrania wideo pokazujące przykładowy obraz z kamery (tak, żeby uruchamiając program z podaniem tej sekwencji wideo jako argumentu uzyskać poprawny wynik) oraz wynik działania programu (np. sekwencja zarejestrowana z poziomu programu lub nagranie monitora wykonane telefonem komórkowym). Oba pliki należy wgrać w miejsce wskazane przez prowadzącego, nie przekraczając ustalonego terminu. \n"
   ]
  },
  {
   "cell_type": "markdown",
   "metadata": {},
   "source": [
    "---\n",
    "---\n",
    "Historia zmian:\n",
    "* wersja r.akad 20/21: 9.11.2020 (MI)"
   ]
  }
 ],
 "metadata": {
  "kernelspec": {
   "display_name": "Python 3",
   "language": "python",
   "name": "python3"
  },
  "language_info": {
   "codemirror_mode": {
    "name": "ipython",
    "version": 3
   },
   "file_extension": ".py",
   "mimetype": "text/x-python",
   "name": "python",
   "nbconvert_exporter": "python",
   "pygments_lexer": "ipython3",
   "version": "3.8.3"
  }
 },
 "nbformat": 4,
 "nbformat_minor": 4
}
