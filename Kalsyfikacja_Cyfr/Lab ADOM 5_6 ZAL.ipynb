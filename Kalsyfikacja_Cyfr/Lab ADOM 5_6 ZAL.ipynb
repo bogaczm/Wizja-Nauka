{
 "cells": [
  {
   "cell_type": "markdown",
   "metadata": {},
   "source": [
    "# **Laboratorium ADOM 5 i 6 - ZALICZENIE**\n",
    "---\n"
   ]
  },
  {
   "cell_type": "markdown",
   "metadata": {},
   "source": [
    "Obraz `cyfry.png` zawiera 10 różnych obiektów - cyfr od 0 do 9. Wyznacz cechy tych obiektów i spróbuj znaleźć zestaw cech, który umożliwiłby rozóżnienie tych cyfr. Zaproponuj model klasyfikatora oraz przetestuj go na obrazach `cyfry1.png`, `cyfry2.png` i `cyfry3.png`. \n"
   ]
  },
  {
   "cell_type": "code",
   "execution_count": 2,
   "metadata": {},
   "outputs": [
    {
     "name": "stderr",
     "output_type": "stream",
     "text": [
      "C:\\Users\\moko\\anaconda3\\envs\\openCV\\lib\\site-packages\\tensorflow\\python\\framework\\dtypes.py:516: FutureWarning: Passing (type, 1) or '1type' as a synonym of type is deprecated; in a future version of numpy, it will be understood as (type, (1,)) / '(1,)type'.\n",
      "  _np_qint8 = np.dtype([(\"qint8\", np.int8, 1)])\n",
      "C:\\Users\\moko\\anaconda3\\envs\\openCV\\lib\\site-packages\\tensorflow\\python\\framework\\dtypes.py:517: FutureWarning: Passing (type, 1) or '1type' as a synonym of type is deprecated; in a future version of numpy, it will be understood as (type, (1,)) / '(1,)type'.\n",
      "  _np_quint8 = np.dtype([(\"quint8\", np.uint8, 1)])\n",
      "C:\\Users\\moko\\anaconda3\\envs\\openCV\\lib\\site-packages\\tensorflow\\python\\framework\\dtypes.py:518: FutureWarning: Passing (type, 1) or '1type' as a synonym of type is deprecated; in a future version of numpy, it will be understood as (type, (1,)) / '(1,)type'.\n",
      "  _np_qint16 = np.dtype([(\"qint16\", np.int16, 1)])\n",
      "C:\\Users\\moko\\anaconda3\\envs\\openCV\\lib\\site-packages\\tensorflow\\python\\framework\\dtypes.py:519: FutureWarning: Passing (type, 1) or '1type' as a synonym of type is deprecated; in a future version of numpy, it will be understood as (type, (1,)) / '(1,)type'.\n",
      "  _np_quint16 = np.dtype([(\"quint16\", np.uint16, 1)])\n",
      "C:\\Users\\moko\\anaconda3\\envs\\openCV\\lib\\site-packages\\tensorflow\\python\\framework\\dtypes.py:520: FutureWarning: Passing (type, 1) or '1type' as a synonym of type is deprecated; in a future version of numpy, it will be understood as (type, (1,)) / '(1,)type'.\n",
      "  _np_qint32 = np.dtype([(\"qint32\", np.int32, 1)])\n",
      "C:\\Users\\moko\\anaconda3\\envs\\openCV\\lib\\site-packages\\tensorflow\\python\\framework\\dtypes.py:525: FutureWarning: Passing (type, 1) or '1type' as a synonym of type is deprecated; in a future version of numpy, it will be understood as (type, (1,)) / '(1,)type'.\n",
      "  np_resource = np.dtype([(\"resource\", np.ubyte, 1)])\n",
      "C:\\Users\\moko\\anaconda3\\envs\\openCV\\lib\\site-packages\\tensorboard\\compat\\tensorflow_stub\\dtypes.py:541: FutureWarning: Passing (type, 1) or '1type' as a synonym of type is deprecated; in a future version of numpy, it will be understood as (type, (1,)) / '(1,)type'.\n",
      "  _np_qint8 = np.dtype([(\"qint8\", np.int8, 1)])\n",
      "C:\\Users\\moko\\anaconda3\\envs\\openCV\\lib\\site-packages\\tensorboard\\compat\\tensorflow_stub\\dtypes.py:542: FutureWarning: Passing (type, 1) or '1type' as a synonym of type is deprecated; in a future version of numpy, it will be understood as (type, (1,)) / '(1,)type'.\n",
      "  _np_quint8 = np.dtype([(\"quint8\", np.uint8, 1)])\n",
      "C:\\Users\\moko\\anaconda3\\envs\\openCV\\lib\\site-packages\\tensorboard\\compat\\tensorflow_stub\\dtypes.py:543: FutureWarning: Passing (type, 1) or '1type' as a synonym of type is deprecated; in a future version of numpy, it will be understood as (type, (1,)) / '(1,)type'.\n",
      "  _np_qint16 = np.dtype([(\"qint16\", np.int16, 1)])\n",
      "C:\\Users\\moko\\anaconda3\\envs\\openCV\\lib\\site-packages\\tensorboard\\compat\\tensorflow_stub\\dtypes.py:544: FutureWarning: Passing (type, 1) or '1type' as a synonym of type is deprecated; in a future version of numpy, it will be understood as (type, (1,)) / '(1,)type'.\n",
      "  _np_quint16 = np.dtype([(\"quint16\", np.uint16, 1)])\n",
      "C:\\Users\\moko\\anaconda3\\envs\\openCV\\lib\\site-packages\\tensorboard\\compat\\tensorflow_stub\\dtypes.py:545: FutureWarning: Passing (type, 1) or '1type' as a synonym of type is deprecated; in a future version of numpy, it will be understood as (type, (1,)) / '(1,)type'.\n",
      "  _np_qint32 = np.dtype([(\"qint32\", np.int32, 1)])\n",
      "C:\\Users\\moko\\anaconda3\\envs\\openCV\\lib\\site-packages\\tensorboard\\compat\\tensorflow_stub\\dtypes.py:550: FutureWarning: Passing (type, 1) or '1type' as a synonym of type is deprecated; in a future version of numpy, it will be understood as (type, (1,)) / '(1,)type'.\n",
      "  np_resource = np.dtype([(\"resource\", np.ubyte, 1)])\n"
     ]
    }
   ],
   "source": [
    "# imports for innitial tests, i don't know which traits ora algorithms will work best for digits differentiation\n",
    "import numpy as np\n",
    "import pandas as pd\n",
    "import math\n",
    "import seaborn as sns\n",
    "import matplotlib as mpl\n",
    "import matplotlib.pyplot as plt\n",
    "import cv2\n",
    "import tensorflow as tf\n",
    "\n",
    "from skimage.measure import label,regionprops\n",
    "import skimage.color as sic\n",
    "import skimage as si\n",
    "\n",
    "from sklearn.tree import DecisionTreeClassifier\n",
    "from sklearn.metrics import confusion_matrix\n",
    "from sklearn import tree\n",
    "\n",
    "from tensorflow.keras.preprocessing.image import ImageDataGenerator\n"
   ]
  },
  {
   "cell_type": "markdown",
   "metadata": {},
   "source": [
    "## Load style source image"
   ]
  },
  {
   "cell_type": "code",
   "execution_count": 7,
   "metadata": {},
   "outputs": [
    {
     "name": "stdout",
     "output_type": "stream",
     "text": [
      "Source image: (38, 208, 3)\n",
      "Gray image: (38, 208)\n",
      "Binary image: (38, 208)\n"
     ]
    },
    {
     "data": {
      "image/png": "[encoded data removed]",
      "text/plain": [
       "<Figure size 432x288 with 1 Axes>"
      ]
     },
     "metadata": {
      "needs_background": "light"
     },
     "output_type": "display_data"
    },
    {
     "data": {
      "image/png": "[encoded data removed]",
      "text/plain": [
       "<Figure size 432x288 with 1 Axes>"
      ]
     },
     "metadata": {
      "needs_background": "light"
     },
     "output_type": "display_data"
    }
   ],
   "source": [
    "digits_source = cv2.imread('images/cyfry.png')\n",
    "\n",
    "digits_gray = cv2.cvtColor(digits_source, cv2.COLOR_BGR2GRAY)\n",
    "\n",
    "# treshold was set to low value, so that bounding boxces would contain whole numbers \n",
    "_, digits_binarny = cv2.threshold(digits_gray,1,255,cv2.THRESH_BINARY)\n",
    "\n",
    "print('Source image: {}'.format(digits_source.shape))\n",
    "print('Gray image: {}'.format(digits_gray.shape))\n",
    "print('Binary image: {}'.format(digits_binarny.shape))\n",
    "\n",
    "plt.imshow(digits_gray, cmap='gray')\n",
    "plt.show()\n",
    "plt.imshow(digits_binarny, cmap='gray')\n",
    "plt.show()"
   ]
  },
  {
   "cell_type": "markdown",
   "metadata": {},
   "source": [
    "## Label data"
   ]
  },
  {
   "cell_type": "code",
   "execution_count": 8,
   "metadata": {},
   "outputs": [
    {
     "name": "stdout",
     "output_type": "stream",
     "text": [
      "Labels of objects :[1, 2, 3, 4, 5, 6, 7, 8, 9, 10]\n"
     ]
    },
    {
     "data": {
      "image/png": "[encoded data removed]",
      "text/plain": [
       "<Figure size 432x288 with 1 Axes>"
      ]
     },
     "metadata": {
      "needs_background": "light"
     },
     "output_type": "display_data"
    }
   ],
   "source": [
    "digits_labels = label(digits_binarny)\n",
    "\n",
    "print('Labels of objects :{}'.format(list(np.unique(digits_labels))[1:]))\n",
    "\n",
    "plt.imshow(digits_labels)\n",
    "plt.show()"
   ]
  },
  {
   "cell_type": "code",
   "execution_count": 9,
   "metadata": {},
   "outputs": [
    {
     "data": {
      "text/plain": [
       "<matplotlib.image.AxesImage at 0x21b3b2e1ba8>"
      ]
     },
     "execution_count": 9,
     "metadata": {},
     "output_type": "execute_result"
    },
    {
     "data": {
      "image/png": "[encoded data removed]",
      "text/plain": [
       "<Figure size 432x288 with 1 Axes>"
      ]
     },
     "metadata": {
      "needs_background": "light"
     },
     "output_type": "display_data"
    }
   ],
   "source": [
    "# nałożenie etykiet na obraz oryginalny\n",
    "labeled_digits_source = sic.label2rgb(digits_labels, image=digits_source, bg_label=0)\n",
    "plt.imshow(labeled_digits_source)"
   ]
  },
  {
   "cell_type": "markdown",
   "metadata": {},
   "source": [
    "#### Entry analysis and features extraction"
   ]
  },
  {
   "cell_type": "code",
   "execution_count": 10,
   "metadata": {},
   "outputs": [
    {
     "name": "stdout",
     "output_type": "stream",
     "text": [
      "Data struc. type: <class 'list'>\n",
      "\n",
      "Data struc. of elem: <class 'skimage.measure._regionprops.RegionProperties'>\n",
      "\n",
      "['__class__', '__delattr__', '__dict__', '__dir__', '__doc__', '__eq__', '__format__', '__ge__', '__getattribute__', '__getitem__', '__gt__', '__hash__', '__init__', '__init_subclass__', '__iter__', '__le__', '__lt__', '__module__', '__ne__', '__new__', '__reduce__', '__reduce_ex__', '__repr__', '__setattr__', '__sizeof__', '__str__', '__subclasshook__', '__weakref__', '_cache', '_cache_active', '_intensity_image', '_intensity_image_double', '_label_image', '_ndim', '_slice', 'area', 'bbox', 'bbox_area', 'centroid', 'convex_area', 'convex_image', 'coords', 'eccentricity', 'equivalent_diameter', 'euler_number', 'extent', 'filled_area', 'filled_image', 'image', 'inertia_tensor', 'inertia_tensor_eigvals', 'intensity_image', 'label', 'local_centroid', 'major_axis_length', 'max_intensity', 'mean_intensity', 'min_intensity', 'minor_axis_length', 'moments', 'moments_central', 'moments_hu', 'moments_normalized', 'orientation', 'perimeter', 'slice', 'solidity', 'weighted_centroid', 'weighted_local_centroid', 'weighted_moments', 'weighted_moments_central', 'weighted_moments_hu', 'weighted_moments_normalized']\n"
     ]
    }
   ],
   "source": [
    "# analiza cech (miejsce na kod)\n",
    "# basic properties of dataset\n",
    "digits_features = regionprops(digits_labels)\n",
    "\n",
    "# looking at the data structure\n",
    "print('Data struc. type: {}\\n'.format(type(digits_features)))\n",
    "print('Data struc. of elem: {}\\n'.format(type(digits_features[1])))\n",
    "\n",
    "# looking at properties of regionprops class to determine what to use\n",
    "print(dir(digits_features[0]))"
   ]
  },
  {
   "cell_type": "code",
   "execution_count": 11,
   "metadata": {},
   "outputs": [],
   "source": [
    "def create_features(img_features, labels_count):\n",
    "    # using dataframe to save features of the digits\n",
    "    features_df = pd.DataFrame()\n",
    "\n",
    "    # create temp lists - we know there are 10 classes of digits 0-9\n",
    "    digits = np.arange(0, labels_count)\n",
    "    bb_ratio = np.zeros(labels_count)\n",
    "    center_ratio = np.zeros(labels_count)\n",
    "    area_bb_ratio = np.zeros(labels_count)\n",
    "    area_conv_ratio = np.zeros(labels_count)\n",
    "    area_fill_ratio = np.zeros(labels_count)\n",
    "    ee_num = np.zeros(labels_count)\n",
    "\n",
    "    for digit, feature in enumerate(img_features):\n",
    "        # digit ceter\n",
    "        y0, x0 = feature.centroid\n",
    "        # bounding box\n",
    "        minr, minc, maxr, maxc = feature.bbox\n",
    "        bb_ratio[digit] = (maxr-minr)/(maxc-minc)\n",
    "\n",
    "        # ratio between maxbb_center and minbb_center, the distances between center and the vertices of the bbox\n",
    "        center_ratio[digit] = np.sqrt((y0-maxr)**2+(x0-maxc)**2)/np.sqrt((y0-minr)**2+(x0-minc)**2)\n",
    "\n",
    "        area = feature.area\n",
    "        bb_area = feature.bbox_area\n",
    "        convex_area = feature.convex_area\n",
    "        filled_area = feature.filled_area\n",
    "        area_bb_ratio[digit] = area/bb_area\n",
    "        area_conv_ratio[digit] = area/convex_area\n",
    "        area_fill_ratio[digit] = area/filled_area    \n",
    "\n",
    "        ee_num[digit] = feature.euler_number\n",
    "\n",
    "    features_df['digit'] = digits\n",
    "    features_df['area_bb_ratio'] = area_bb_ratio\n",
    "    features_df['area_conv_ratio'] = area_conv_ratio\n",
    "    features_df['area_fill_ratio'] = area_fill_ratio\n",
    "    features_df['bb_ratio'] = bb_ratio\n",
    "    features_df['center_ratio'] = center_ratio\n",
    "    features_df['euler_number'] = ee_num\n",
    "    \n",
    "    return features_df"
   ]
  },
  {
   "cell_type": "markdown",
   "metadata": {},
   "source": [
    "#### Obserwacja wstepna cech\n",
    "Prosty klasyfikator który zostanie zbudowany moze nie działać dobrze dla cech względnych. Jeśli pojawi się na wejściu obraz o innym rozmiarze lub stosunku wymiarów, prosty klasyfikator moze się pogubić. \n",
    "Dlatego zdecydowałem się na wyodrębnienie dodatkowych cech na podstawie tych już obecnych, stosunki rozmiarów czy odległości są znacznie lepsze niż czyste rozmiary, niosą ze sobą więcej informacji i lepiej pozwalają opisać badany obiekt."
   ]
  },
  {
   "cell_type": "code",
   "execution_count": 12,
   "metadata": {},
   "outputs": [],
   "source": [
    "features_df = create_features(digits_features, 10)"
   ]
  },
  {
   "cell_type": "code",
   "execution_count": 13,
   "metadata": {},
   "outputs": [
    {
     "data": {
      "text/html": [
       "<div>\n",
       "<style scoped>\n",
       "    .dataframe tbody tr th:only-of-type {\n",
       "        vertical-align: middle;\n",
       "    }\n",
       "\n",
       "    .dataframe tbody tr th {\n",
       "        vertical-align: top;\n",
       "    }\n",
       "\n",
       "    .dataframe thead th {\n",
       "        text-align: right;\n",
       "    }\n",
       "</style>\n",
       "<table border=\"1\" class=\"dataframe\">\n",
       "  <thead>\n",
       "    <tr style=\"text-align: right;\">\n",
       "      <th></th>\n",
       "      <th>digit</th>\n",
       "      <th>area_bb_ratio</th>\n",
       "      <th>area_conv_ratio</th>\n",
       "      <th>area_fill_ratio</th>\n",
       "      <th>bb_ratio</th>\n",
       "      <th>center_ratio</th>\n",
       "      <th>euler_number</th>\n",
       "    </tr>\n",
       "  </thead>\n",
       "  <tbody>\n",
       "    <tr>\n",
       "      <th>0</th>\n",
       "      <td>0</td>\n",
       "      <td>0.509259</td>\n",
       "      <td>0.572917</td>\n",
       "      <td>0.591398</td>\n",
       "      <td>1.500000</td>\n",
       "      <td>1.105451</td>\n",
       "      <td>0.0</td>\n",
       "    </tr>\n",
       "    <tr>\n",
       "      <th>1</th>\n",
       "      <td>1</td>\n",
       "      <td>0.404762</td>\n",
       "      <td>0.607143</td>\n",
       "      <td>1.000000</td>\n",
       "      <td>2.571429</td>\n",
       "      <td>1.300157</td>\n",
       "      <td>1.0</td>\n",
       "    </tr>\n",
       "    <tr>\n",
       "      <th>2</th>\n",
       "      <td>2</td>\n",
       "      <td>0.462963</td>\n",
       "      <td>0.500000</td>\n",
       "      <td>1.000000</td>\n",
       "      <td>1.500000</td>\n",
       "      <td>1.049349</td>\n",
       "      <td>1.0</td>\n",
       "    </tr>\n",
       "    <tr>\n",
       "      <th>3</th>\n",
       "      <td>3</td>\n",
       "      <td>0.509259</td>\n",
       "      <td>0.575916</td>\n",
       "      <td>1.000000</td>\n",
       "      <td>1.500000</td>\n",
       "      <td>1.064977</td>\n",
       "      <td>1.0</td>\n",
       "    </tr>\n",
       "    <tr>\n",
       "      <th>4</th>\n",
       "      <td>4</td>\n",
       "      <td>0.431624</td>\n",
       "      <td>0.691781</td>\n",
       "      <td>0.870690</td>\n",
       "      <td>1.384615</td>\n",
       "      <td>0.955846</td>\n",
       "      <td>0.0</td>\n",
       "    </tr>\n",
       "    <tr>\n",
       "      <th>5</th>\n",
       "      <td>5</td>\n",
       "      <td>0.518519</td>\n",
       "      <td>0.580311</td>\n",
       "      <td>1.000000</td>\n",
       "      <td>1.500000</td>\n",
       "      <td>1.177998</td>\n",
       "      <td>1.0</td>\n",
       "    </tr>\n",
       "    <tr>\n",
       "      <th>6</th>\n",
       "      <td>6</td>\n",
       "      <td>0.542735</td>\n",
       "      <td>0.635000</td>\n",
       "      <td>0.755952</td>\n",
       "      <td>1.384615</td>\n",
       "      <td>1.147431</td>\n",
       "      <td>0.0</td>\n",
       "    </tr>\n",
       "    <tr>\n",
       "      <th>7</th>\n",
       "      <td>7</td>\n",
       "      <td>0.361111</td>\n",
       "      <td>0.541667</td>\n",
       "      <td>1.000000</td>\n",
       "      <td>1.500000</td>\n",
       "      <td>1.746361</td>\n",
       "      <td>1.0</td>\n",
       "    </tr>\n",
       "    <tr>\n",
       "      <th>8</th>\n",
       "      <td>8</td>\n",
       "      <td>0.592593</td>\n",
       "      <td>0.670157</td>\n",
       "      <td>0.707182</td>\n",
       "      <td>1.500000</td>\n",
       "      <td>1.161289</td>\n",
       "      <td>-1.0</td>\n",
       "    </tr>\n",
       "    <tr>\n",
       "      <th>9</th>\n",
       "      <td>9</td>\n",
       "      <td>0.564815</td>\n",
       "      <td>0.645503</td>\n",
       "      <td>0.762500</td>\n",
       "      <td>1.500000</td>\n",
       "      <td>1.095985</td>\n",
       "      <td>0.0</td>\n",
       "    </tr>\n",
       "  </tbody>\n",
       "</table>\n",
       "</div>"
      ],
      "text/plain": [
       "   digit  area_bb_ratio  area_conv_ratio  area_fill_ratio  bb_ratio  \\\n",
       "0      0       0.509259         0.572917         0.591398  1.500000   \n",
       "1      1       0.404762         0.607143         1.000000  2.571429   \n",
       "2      2       0.462963         0.500000         1.000000  1.500000   \n",
       "3      3       0.509259         0.575916         1.000000  1.500000   \n",
       "4      4       0.431624         0.691781         0.870690  1.384615   \n",
       "5      5       0.518519         0.580311         1.000000  1.500000   \n",
       "6      6       0.542735         0.635000         0.755952  1.384615   \n",
       "7      7       0.361111         0.541667         1.000000  1.500000   \n",
       "8      8       0.592593         0.670157         0.707182  1.500000   \n",
       "9      9       0.564815         0.645503         0.762500  1.500000   \n",
       "\n",
       "   center_ratio  euler_number  \n",
       "0      1.105451           0.0  \n",
       "1      1.300157           1.0  \n",
       "2      1.049349           1.0  \n",
       "3      1.064977           1.0  \n",
       "4      0.955846           0.0  \n",
       "5      1.177998           1.0  \n",
       "6      1.147431           0.0  \n",
       "7      1.746361           1.0  \n",
       "8      1.161289          -1.0  \n",
       "9      1.095985           0.0  "
      ]
     },
     "execution_count": 13,
     "metadata": {},
     "output_type": "execute_result"
    }
   ],
   "source": [
    "features_df.head(10)"
   ]
  },
  {
   "cell_type": "markdown",
   "metadata": {},
   "source": [
    "## Model\n",
    "Naiwny klasyfikator, dla tak małego zbioru uczącego ciężko będzie stworzyć klasyfikator opary na innym algorytmie"
   ]
  },
  {
   "cell_type": "code",
   "execution_count": 14,
   "metadata": {},
   "outputs": [],
   "source": [
    "# podział danych na etykiety i cechy\n",
    "y_train = features_df['digit']\n",
    "X_train = features_df.drop(['digit'], axis=1)"
   ]
  },
  {
   "cell_type": "code",
   "execution_count": 15,
   "metadata": {},
   "outputs": [
    {
     "data": {
      "text/html": [
       "<div>\n",
       "<style scoped>\n",
       "    .dataframe tbody tr th:only-of-type {\n",
       "        vertical-align: middle;\n",
       "    }\n",
       "\n",
       "    .dataframe tbody tr th {\n",
       "        vertical-align: top;\n",
       "    }\n",
       "\n",
       "    .dataframe thead th {\n",
       "        text-align: right;\n",
       "    }\n",
       "</style>\n",
       "<table border=\"1\" class=\"dataframe\">\n",
       "  <thead>\n",
       "    <tr style=\"text-align: right;\">\n",
       "      <th></th>\n",
       "      <th>area_bb_ratio</th>\n",
       "      <th>area_conv_ratio</th>\n",
       "      <th>area_fill_ratio</th>\n",
       "      <th>bb_ratio</th>\n",
       "      <th>center_ratio</th>\n",
       "      <th>euler_number</th>\n",
       "    </tr>\n",
       "  </thead>\n",
       "  <tbody>\n",
       "    <tr>\n",
       "      <th>0</th>\n",
       "      <td>0.509259</td>\n",
       "      <td>0.572917</td>\n",
       "      <td>0.591398</td>\n",
       "      <td>1.500000</td>\n",
       "      <td>1.105451</td>\n",
       "      <td>0.0</td>\n",
       "    </tr>\n",
       "    <tr>\n",
       "      <th>1</th>\n",
       "      <td>0.404762</td>\n",
       "      <td>0.607143</td>\n",
       "      <td>1.000000</td>\n",
       "      <td>2.571429</td>\n",
       "      <td>1.300157</td>\n",
       "      <td>1.0</td>\n",
       "    </tr>\n",
       "    <tr>\n",
       "      <th>2</th>\n",
       "      <td>0.462963</td>\n",
       "      <td>0.500000</td>\n",
       "      <td>1.000000</td>\n",
       "      <td>1.500000</td>\n",
       "      <td>1.049349</td>\n",
       "      <td>1.0</td>\n",
       "    </tr>\n",
       "    <tr>\n",
       "      <th>3</th>\n",
       "      <td>0.509259</td>\n",
       "      <td>0.575916</td>\n",
       "      <td>1.000000</td>\n",
       "      <td>1.500000</td>\n",
       "      <td>1.064977</td>\n",
       "      <td>1.0</td>\n",
       "    </tr>\n",
       "    <tr>\n",
       "      <th>4</th>\n",
       "      <td>0.431624</td>\n",
       "      <td>0.691781</td>\n",
       "      <td>0.870690</td>\n",
       "      <td>1.384615</td>\n",
       "      <td>0.955846</td>\n",
       "      <td>0.0</td>\n",
       "    </tr>\n",
       "  </tbody>\n",
       "</table>\n",
       "</div>"
      ],
      "text/plain": [
       "   area_bb_ratio  area_conv_ratio  area_fill_ratio  bb_ratio  center_ratio  \\\n",
       "0       0.509259         0.572917         0.591398  1.500000      1.105451   \n",
       "1       0.404762         0.607143         1.000000  2.571429      1.300157   \n",
       "2       0.462963         0.500000         1.000000  1.500000      1.049349   \n",
       "3       0.509259         0.575916         1.000000  1.500000      1.064977   \n",
       "4       0.431624         0.691781         0.870690  1.384615      0.955846   \n",
       "\n",
       "   euler_number  \n",
       "0           0.0  \n",
       "1           1.0  \n",
       "2           1.0  \n",
       "3           1.0  \n",
       "4           0.0  "
      ]
     },
     "execution_count": 15,
     "metadata": {},
     "output_type": "execute_result"
    }
   ],
   "source": [
    "X_train.head()"
   ]
  },
  {
   "cell_type": "markdown",
   "metadata": {},
   "source": [
    "#### Drzewa decyzyjne"
   ]
  },
  {
   "cell_type": "code",
   "execution_count": 16,
   "metadata": {},
   "outputs": [],
   "source": [
    "# model klasyfikatora (miejsce na kod)\n",
    "tree = DecisionTreeClassifier()"
   ]
  },
  {
   "cell_type": "code",
   "execution_count": 17,
   "metadata": {},
   "outputs": [
    {
     "data": {
      "text/plain": [
       "DecisionTreeClassifier()"
      ]
     },
     "execution_count": 17,
     "metadata": {},
     "output_type": "execute_result"
    }
   ],
   "source": [
    "tree.fit(X_train, y_train)"
   ]
  },
  {
   "cell_type": "code",
   "execution_count": 18,
   "metadata": {},
   "outputs": [
    {
     "name": "stdout",
     "output_type": "stream",
     "text": [
      "oryginalne: [0, 1, 2, 3, 4, 5, 6, 7, 8, 9]\n",
      "predykcja : [0, 1, 2, 3, 4, 5, 6, 7, 8, 9]\n"
     ]
    }
   ],
   "source": [
    "# naiwne sprawdzenie uczenia, czy predykcja na zbiorze uczącym będzie równa oryginalnym etykietom\n",
    "predictions = tree.predict(X_train)\n",
    "\n",
    "print('oryginalne: {}'.format(list(y_train)))\n",
    "print('predykcja : {}'.format(list(predictions)))"
   ]
  },
  {
   "cell_type": "markdown",
   "metadata": {},
   "source": [
    "## Test"
   ]
  },
  {
   "cell_type": "markdown",
   "metadata": {},
   "source": [
    "#### Przygotowanie danych testujących\n",
    "Obrazy testujące są zupełnie innego typu niż obrazy treningowe, dlatego ich przygotowanie będzie inne.\n",
    "\n",
    "Dodatkowo, ręcznie zostaną stworzone odpowiednie listy zawierające prawidłowe ciągi któe oczekujemy otrzymać z analizy."
   ]
  },
  {
   "cell_type": "code",
   "execution_count": 46,
   "metadata": {},
   "outputs": [
    {
     "data": {
      "text/plain": [
       "<matplotlib.image.AxesImage at 0x21b3b735cc0>"
      ]
     },
     "execution_count": 46,
     "metadata": {},
     "output_type": "execute_result"
    },
    {
     "data": {
      "image/png": "[encoded data removed]",
      "text/plain": [
       "<Figure size 720x720 with 1 Axes>"
      ]
     },
     "metadata": {
      "needs_background": "light"
     },
     "output_type": "display_data"
    }
   ],
   "source": [
    "# obróbka wstępna obrazów (miejsce na kod)\n",
    "# Wszystkie obrazy zostaną przetworzone indywidualnie do formy binych etykiet\n",
    "digits_test1_real = [8,5,7,2,3,4,5,1,0,0,1,1,3,3,4,5,6,7,6,9]\n",
    "\n",
    "digits_test1_o = cv2.imread('images/cyfry1.png')\n",
    "digits_test1 = cv2.cvtColor(digits_test1_o, cv2.COLOR_BGR2GRAY)\n",
    "digits_test1 = 255-digits_test1\n",
    "_, digits_test1 = cv2.threshold(digits_test1,100,255,cv2.THRESH_BINARY)\n",
    "digits_test1_1 = label(digits_test1)\n",
    "digits_test1 = regionprops(digits_test1_1)\n",
    "\n",
    "plt.figure(figsize=(10,10))\n",
    "plt.imshow(digits_test1_1)"
   ]
  },
  {
   "cell_type": "code",
   "execution_count": 49,
   "metadata": {},
   "outputs": [
    {
     "data": {
      "text/plain": [
       "<matplotlib.image.AxesImage at 0x21b3ba5c278>"
      ]
     },
     "execution_count": 49,
     "metadata": {},
     "output_type": "execute_result"
    },
    {
     "data": {
      "image/png": "[encoded data removed]",
      "text/plain": [
       "<Figure size 720x720 with 1 Axes>"
      ]
     },
     "metadata": {
      "needs_background": "light"
     },
     "output_type": "display_data"
    }
   ],
   "source": [
    "digits_test2_real = [3,4,9,4,1,2,4,3,0,8,9,3,7,8,6,0,5,4,1,2]\n",
    "\n",
    "digits_test2_o = cv2.imread('images/cyfry2.png')\n",
    "digits_test2 = cv2.cvtColor(digits_test2_o, cv2.COLOR_BGR2GRAY)\n",
    "digits_test2 = 255-digits_test2\n",
    "_, digits_test2 = cv2.threshold(digits_test2,110,255,cv2.THRESH_BINARY)\n",
    "digits_test2_1 = label(digits_test2)\n",
    "digits_test2 = regionprops(digits_test2_1)\n",
    "\n",
    "plt.figure(figsize=(10,10))\n",
    "plt.imshow(digits_test2_1)"
   ]
  },
  {
   "cell_type": "code",
   "execution_count": 48,
   "metadata": {},
   "outputs": [
    {
     "data": {
      "text/plain": [
       "<matplotlib.image.AxesImage at 0x21b3ba966a0>"
      ]
     },
     "execution_count": 48,
     "metadata": {},
     "output_type": "execute_result"
    },
    {
     "data": {
      "image/png": "[encoded data removed]",
      "text/plain": [
       "<Figure size 720x720 with 1 Axes>"
      ]
     },
     "metadata": {
      "needs_background": "light"
     },
     "output_type": "display_data"
    }
   ],
   "source": [
    "digits_test3_real = [3,7,5,6,2,2,7,4,1,9,0,3,8,5,7,8,6,2,1,5,9,8]\n",
    "\n",
    "digits_test3_o = cv2.imread('images/cyfry3.png')\n",
    "digits_test3 = cv2.cvtColor(digits_test3_o, cv2.COLOR_BGR2GRAY)\n",
    "digits_test3 = 255-digits_test3\n",
    "_, digits_test3 = cv2.threshold(digits_test3,150,255,cv2.THRESH_BINARY)\n",
    "digits_test3_1 = label(digits_test3)\n",
    "digits_test3 = regionprops(digits_test3_1)\n",
    "\n",
    "plt.figure(figsize=(10,10))\n",
    "plt.imshow(digits_test3_1)"
   ]
  },
  {
   "cell_type": "code",
   "execution_count": 47,
   "metadata": {},
   "outputs": [
    {
     "data": {
      "text/plain": [
       "<matplotlib.image.AxesImage at 0x21b3cb5c208>"
      ]
     },
     "execution_count": 47,
     "metadata": {},
     "output_type": "execute_result"
    },
    {
     "data": {
      "image/png": "[encoded data removed]",
      "text/plain": [
       "<Figure size 720x720 with 1 Axes>"
      ]
     },
     "metadata": {
      "needs_background": "light"
     },
     "output_type": "display_data"
    }
   ],
   "source": [
    "digits_test4_real = [8,3,7,4,9,4,9,2,3,1,9,1,2,5,7,8,5,6,1]\n",
    "\n",
    "digits_test4_o = cv2.imread('images/cyfry4.png')\n",
    "digits_test4 = cv2.cvtColor(digits_test4_o, cv2.COLOR_BGR2GRAY)\n",
    "digits_test4 = 255-digits_test4\n",
    "_, digits_test4 = cv2.threshold(digits_test4,110,255,cv2.THRESH_BINARY)\n",
    "digits_test4_1 = label(digits_test4)\n",
    "digits_test4 = regionprops(digits_test4_1)\n",
    "\n",
    "plt.figure(figsize=(10,10))\n",
    "plt.imshow(digits_test4_1)"
   ]
  },
  {
   "cell_type": "code",
   "execution_count": 23,
   "metadata": {},
   "outputs": [],
   "source": [
    "digits_test1_df = create_features(digits_test1, len(np.unique(digits_test1_1)[1:])).drop(['digit'], axis=1)\n",
    "digits_test2_df = create_features(digits_test2, len(np.unique(digits_test2_1)[1:])).drop(['digit'], axis=1)\n",
    "digits_test3_df = create_features(digits_test3, len(np.unique(digits_test3_1)[1:])).drop(['digit'], axis=1)\n",
    "digits_test4_df = create_features(digits_test4, len(np.unique(digits_test4_1)[1:])).drop(['digit'], axis=1)"
   ]
  },
  {
   "cell_type": "code",
   "execution_count": 24,
   "metadata": {},
   "outputs": [
    {
     "data": {
      "text/html": [
       "<div>\n",
       "<style scoped>\n",
       "    .dataframe tbody tr th:only-of-type {\n",
       "        vertical-align: middle;\n",
       "    }\n",
       "\n",
       "    .dataframe tbody tr th {\n",
       "        vertical-align: top;\n",
       "    }\n",
       "\n",
       "    .dataframe thead th {\n",
       "        text-align: right;\n",
       "    }\n",
       "</style>\n",
       "<table border=\"1\" class=\"dataframe\">\n",
       "  <thead>\n",
       "    <tr style=\"text-align: right;\">\n",
       "      <th></th>\n",
       "      <th>area_bb_ratio</th>\n",
       "      <th>area_conv_ratio</th>\n",
       "      <th>area_fill_ratio</th>\n",
       "      <th>bb_ratio</th>\n",
       "      <th>center_ratio</th>\n",
       "      <th>euler_number</th>\n",
       "    </tr>\n",
       "  </thead>\n",
       "  <tbody>\n",
       "    <tr>\n",
       "      <th>0</th>\n",
       "      <td>0.504630</td>\n",
       "      <td>0.595628</td>\n",
       "      <td>0.652695</td>\n",
       "      <td>1.500000</td>\n",
       "      <td>1.064594</td>\n",
       "      <td>-1.0</td>\n",
       "    </tr>\n",
       "    <tr>\n",
       "      <th>1</th>\n",
       "      <td>0.449074</td>\n",
       "      <td>0.530055</td>\n",
       "      <td>1.000000</td>\n",
       "      <td>1.500000</td>\n",
       "      <td>1.174137</td>\n",
       "      <td>1.0</td>\n",
       "    </tr>\n",
       "    <tr>\n",
       "      <th>2</th>\n",
       "      <td>0.314815</td>\n",
       "      <td>0.511278</td>\n",
       "      <td>1.000000</td>\n",
       "      <td>1.500000</td>\n",
       "      <td>1.733881</td>\n",
       "      <td>1.0</td>\n",
       "    </tr>\n",
       "    <tr>\n",
       "      <th>3</th>\n",
       "      <td>0.388889</td>\n",
       "      <td>0.432990</td>\n",
       "      <td>1.000000</td>\n",
       "      <td>1.500000</td>\n",
       "      <td>0.998170</td>\n",
       "      <td>1.0</td>\n",
       "    </tr>\n",
       "    <tr>\n",
       "      <th>4</th>\n",
       "      <td>0.412037</td>\n",
       "      <td>0.483696</td>\n",
       "      <td>1.000000</td>\n",
       "      <td>1.500000</td>\n",
       "      <td>1.059920</td>\n",
       "      <td>1.0</td>\n",
       "    </tr>\n",
       "    <tr>\n",
       "      <th>5</th>\n",
       "      <td>0.365741</td>\n",
       "      <td>0.617188</td>\n",
       "      <td>0.806122</td>\n",
       "      <td>1.500000</td>\n",
       "      <td>0.946922</td>\n",
       "      <td>0.0</td>\n",
       "    </tr>\n",
       "    <tr>\n",
       "      <th>6</th>\n",
       "      <td>0.435185</td>\n",
       "      <td>0.516484</td>\n",
       "      <td>1.000000</td>\n",
       "      <td>1.500000</td>\n",
       "      <td>1.203771</td>\n",
       "      <td>1.0</td>\n",
       "    </tr>\n",
       "    <tr>\n",
       "      <th>7</th>\n",
       "      <td>0.396825</td>\n",
       "      <td>0.625000</td>\n",
       "      <td>1.000000</td>\n",
       "      <td>2.571429</td>\n",
       "      <td>1.262855</td>\n",
       "      <td>1.0</td>\n",
       "    </tr>\n",
       "    <tr>\n",
       "      <th>8</th>\n",
       "      <td>0.430556</td>\n",
       "      <td>0.513812</td>\n",
       "      <td>0.534483</td>\n",
       "      <td>1.500000</td>\n",
       "      <td>1.083285</td>\n",
       "      <td>0.0</td>\n",
       "    </tr>\n",
       "    <tr>\n",
       "      <th>9</th>\n",
       "      <td>0.416667</td>\n",
       "      <td>0.497238</td>\n",
       "      <td>0.514286</td>\n",
       "      <td>1.500000</td>\n",
       "      <td>1.117585</td>\n",
       "      <td>0.0</td>\n",
       "    </tr>\n",
       "    <tr>\n",
       "      <th>10</th>\n",
       "      <td>0.380952</td>\n",
       "      <td>0.578313</td>\n",
       "      <td>1.000000</td>\n",
       "      <td>2.571429</td>\n",
       "      <td>1.163145</td>\n",
       "      <td>1.0</td>\n",
       "    </tr>\n",
       "    <tr>\n",
       "      <th>11</th>\n",
       "      <td>0.396825</td>\n",
       "      <td>0.581395</td>\n",
       "      <td>1.000000</td>\n",
       "      <td>2.571429</td>\n",
       "      <td>1.272059</td>\n",
       "      <td>1.0</td>\n",
       "    </tr>\n",
       "    <tr>\n",
       "      <th>12</th>\n",
       "      <td>0.388889</td>\n",
       "      <td>0.459016</td>\n",
       "      <td>1.000000</td>\n",
       "      <td>1.500000</td>\n",
       "      <td>1.042382</td>\n",
       "      <td>1.0</td>\n",
       "    </tr>\n",
       "    <tr>\n",
       "      <th>13</th>\n",
       "      <td>0.429293</td>\n",
       "      <td>0.488506</td>\n",
       "      <td>1.000000</td>\n",
       "      <td>1.636364</td>\n",
       "      <td>1.033137</td>\n",
       "      <td>1.0</td>\n",
       "    </tr>\n",
       "    <tr>\n",
       "      <th>14</th>\n",
       "      <td>0.370370</td>\n",
       "      <td>0.606061</td>\n",
       "      <td>0.792079</td>\n",
       "      <td>1.500000</td>\n",
       "      <td>0.975319</td>\n",
       "      <td>0.0</td>\n",
       "    </tr>\n",
       "    <tr>\n",
       "      <th>15</th>\n",
       "      <td>0.449074</td>\n",
       "      <td>0.521505</td>\n",
       "      <td>1.000000</td>\n",
       "      <td>1.500000</td>\n",
       "      <td>1.247728</td>\n",
       "      <td>1.0</td>\n",
       "    </tr>\n",
       "    <tr>\n",
       "      <th>16</th>\n",
       "      <td>0.448718</td>\n",
       "      <td>0.552632</td>\n",
       "      <td>0.704698</td>\n",
       "      <td>1.384615</td>\n",
       "      <td>1.157065</td>\n",
       "      <td>0.0</td>\n",
       "    </tr>\n",
       "    <tr>\n",
       "      <th>17</th>\n",
       "      <td>0.305556</td>\n",
       "      <td>0.496241</td>\n",
       "      <td>1.000000</td>\n",
       "      <td>1.500000</td>\n",
       "      <td>1.793092</td>\n",
       "      <td>1.0</td>\n",
       "    </tr>\n",
       "    <tr>\n",
       "      <th>18</th>\n",
       "      <td>0.457265</td>\n",
       "      <td>0.560209</td>\n",
       "      <td>0.713333</td>\n",
       "      <td>1.384615</td>\n",
       "      <td>1.142906</td>\n",
       "      <td>0.0</td>\n",
       "    </tr>\n",
       "    <tr>\n",
       "      <th>19</th>\n",
       "      <td>0.467593</td>\n",
       "      <td>0.564246</td>\n",
       "      <td>0.706294</td>\n",
       "      <td>1.500000</td>\n",
       "      <td>1.067160</td>\n",
       "      <td>0.0</td>\n",
       "    </tr>\n",
       "  </tbody>\n",
       "</table>\n",
       "</div>"
      ],
      "text/plain": [
       "    area_bb_ratio  area_conv_ratio  area_fill_ratio  bb_ratio  center_ratio  \\\n",
       "0        0.504630         0.595628         0.652695  1.500000      1.064594   \n",
       "1        0.449074         0.530055         1.000000  1.500000      1.174137   \n",
       "2        0.314815         0.511278         1.000000  1.500000      1.733881   \n",
       "3        0.388889         0.432990         1.000000  1.500000      0.998170   \n",
       "4        0.412037         0.483696         1.000000  1.500000      1.059920   \n",
       "5        0.365741         0.617188         0.806122  1.500000      0.946922   \n",
       "6        0.435185         0.516484         1.000000  1.500000      1.203771   \n",
       "7        0.396825         0.625000         1.000000  2.571429      1.262855   \n",
       "8        0.430556         0.513812         0.534483  1.500000      1.083285   \n",
       "9        0.416667         0.497238         0.514286  1.500000      1.117585   \n",
       "10       0.380952         0.578313         1.000000  2.571429      1.163145   \n",
       "11       0.396825         0.581395         1.000000  2.571429      1.272059   \n",
       "12       0.388889         0.459016         1.000000  1.500000      1.042382   \n",
       "13       0.429293         0.488506         1.000000  1.636364      1.033137   \n",
       "14       0.370370         0.606061         0.792079  1.500000      0.975319   \n",
       "15       0.449074         0.521505         1.000000  1.500000      1.247728   \n",
       "16       0.448718         0.552632         0.704698  1.384615      1.157065   \n",
       "17       0.305556         0.496241         1.000000  1.500000      1.793092   \n",
       "18       0.457265         0.560209         0.713333  1.384615      1.142906   \n",
       "19       0.467593         0.564246         0.706294  1.500000      1.067160   \n",
       "\n",
       "    euler_number  \n",
       "0           -1.0  \n",
       "1            1.0  \n",
       "2            1.0  \n",
       "3            1.0  \n",
       "4            1.0  \n",
       "5            0.0  \n",
       "6            1.0  \n",
       "7            1.0  \n",
       "8            0.0  \n",
       "9            0.0  \n",
       "10           1.0  \n",
       "11           1.0  \n",
       "12           1.0  \n",
       "13           1.0  \n",
       "14           0.0  \n",
       "15           1.0  \n",
       "16           0.0  \n",
       "17           1.0  \n",
       "18           0.0  \n",
       "19           0.0  "
      ]
     },
     "execution_count": 24,
     "metadata": {},
     "output_type": "execute_result"
    }
   ],
   "source": [
    "digits_test1_df.head(20)"
   ]
  },
  {
   "cell_type": "code",
   "execution_count": 25,
   "metadata": {},
   "outputs": [],
   "source": [
    "# testy klasyfikatora  (miejsce na kod)\n",
    "# zdjęcie 1\n",
    "prediction1 = tree.predict(digits_test1_df)\n",
    "prediction2 = tree.predict(digits_test2_df)\n",
    "prediction3 = tree.predict(digits_test3_df)\n",
    "prediction4 = tree.predict(digits_test4_df)"
   ]
  },
  {
   "cell_type": "code",
   "execution_count": 26,
   "metadata": {},
   "outputs": [
    {
     "name": "stdout",
     "output_type": "stream",
     "text": [
      "1. Zdjecie 1\n",
      "oryginal : [8, 5, 7, 2, 3, 4, 5, 1, 0, 0, 1, 1, 3, 3, 4, 5, 6, 7, 6, 9]\n",
      "predykcje: [8, 2, 7, 2, 2, 9, 2, 1, 0, 0, 7, 1, 2, 2, 9, 2, 6, 7, 6, 6]\n",
      "------------------------------------------------------------------------\n",
      "2. Zdjecie 2\n",
      "oryginal : [3, 4, 9, 4, 1, 2, 4, 3, 0, 8, 9, 3, 7, 8, 6, 0, 5, 4, 1, 2]\n",
      "predykcje: [7, 9, 6, 9, 1, 7, 6, 2, 0, 8, 6, 2, 7, 8, 0, 0, 2, 6, 7, 7]\n",
      "------------------------------------------------------------------------\n",
      "3. Zdjecie 3\n",
      "oryginal : [3, 7, 5, 6, 2, 2, 7, 4, 1, 9, 0, 3, 8, 5, 7, 8, 6, 2, 1, 5, 9, 8]\n",
      "predykcje: [7, 7, 7, 0, 7, 7, 7, 6, 1, 2, 0, 7, 8, 7, 7, 8, 0, 7, 7, 7, 0, 8]\n",
      "------------------------------------------------------------------------\n",
      "4. Zdjecie 4\n",
      "oryginal : [8, 3, 7, 4, 9, 4, 9, 2, 3, 1, 9, 1, 2, 5, 7, 8, 5, 6, 1]\n",
      "predykcje: [8, 7, 7, 6, 0, 6, 0, 7, 7, 1, 0, 7, 7, 7, 7, 8, 7, 0, 7]\n"
     ]
    }
   ],
   "source": [
    "print('1. Zdjecie 1')\n",
    "print('oryginal : {}'.format(digits_test1_real))\n",
    "print('predykcje: {}'.format(list(prediction1)))\n",
    "print('------------------------------------------------------------------------')\n",
    "\n",
    "print('2. Zdjecie 2')\n",
    "print('oryginal : {}'.format(digits_test2_real))\n",
    "print('predykcje: {}'.format(list(prediction2)))\n",
    "print('------------------------------------------------------------------------')\n",
    "\n",
    "print('3. Zdjecie 3')\n",
    "print('oryginal : {}'.format(digits_test3_real))\n",
    "print('predykcje: {}'.format(list(prediction3)))\n",
    "print('------------------------------------------------------------------------')\n",
    "\n",
    "print('4. Zdjecie 4')\n",
    "print('oryginal : {}'.format(digits_test4_real))\n",
    "print('predykcje: {}'.format(list(prediction4)))"
   ]
  },
  {
   "cell_type": "markdown",
   "metadata": {},
   "source": [
    "Wnioski:\n",
    "*  Jak widac stworzony klasyfikator nie działa zbyt dobrze, najprawdopodobniej przyczyną może być zbyt mała ilość danych wejściowych\n",
    "*  Podjęta zostanie próba zaimplementowania znacznie lepszego klasyfikatora, który powinien pozwolić na lepszą identyfikację."
   ]
  },
  {
   "cell_type": "markdown",
   "metadata": {},
   "source": [
    "---"
   ]
  },
  {
   "cell_type": "markdown",
   "metadata": {},
   "source": [
    "# CNN + odpowienia obróbka\n",
    "Podejściem będzie wytworzenie dodatkowej wariancji danych przez preprocessing obrazów, a jako klasyfikatora użyjemy prostej sieci CNN, która powinna znacznie poprawić możliwości rozpoznawania.\n",
    "W klasycznych gotowych metodach rozpoznawania obiektów jak Tensorflow object API raczej jako wejście używamy zbioru obrazów, do których dodajemy odpowiednie pliki etykietujące. Tutaj wykorzystam inne podejście, ma bazie boundingboxa + 1/2px. (w celu upewnienia się, że cała cyfra jest w polu) wytnę cyfrę, wykonam obróbkę tak wyciętej cyfry do standardowego formatu i tak stworzonego zbioru danych użyję do uczenia i testowania.\n",
    "\n",
    "Plan przetwarzania:\n",
    "1. Funkcja przetwarzająca obraz wyjściowy na zestaw obrazów. - w tym odpowiednie powielenie danych które już mamy w zestawie \n",
    "2. Stworzenie topologii prostej sieci CNN z warstwą wyjściową zawierającą 10 neuronów (wybór na bazie softmax)\n",
    "3. Nauczenie sieci \n",
    "4. Test sieci"
   ]
  },
  {
   "cell_type": "code",
   "execution_count": 27,
   "metadata": {},
   "outputs": [],
   "source": [
    "IMG_HEIGHT = 20\n",
    "IMG_WIDTH = 20"
   ]
  },
  {
   "cell_type": "code",
   "execution_count": 28,
   "metadata": {},
   "outputs": [
    {
     "name": "stdout",
     "output_type": "stream",
     "text": [
      "Source image: (38, 208, 3)\n",
      "Gray image: (38, 208)\n",
      "Binary image: (38, 208)\n"
     ]
    },
    {
     "data": {
      "image/png": "[encoded data removed]",
      "text/plain": [
       "<Figure size 432x288 with 1 Axes>"
      ]
     },
     "metadata": {
      "needs_background": "light"
     },
     "output_type": "display_data"
    },
    {
     "data": {
      "image/png": "[encoded data removed]",
      "text/plain": [
       "<Figure size 432x288 with 1 Axes>"
      ]
     },
     "metadata": {
      "needs_background": "light"
     },
     "output_type": "display_data"
    },
    {
     "data": {
      "image/png": "[encoded data removed]",
      "text/plain": [
       "<Figure size 432x288 with 1 Axes>"
      ]
     },
     "metadata": {
      "needs_background": "light"
     },
     "output_type": "display_data"
    }
   ],
   "source": [
    "digits_source = cv2.imread('images/cyfry.png')\n",
    "\n",
    "digits_gray = cv2.cvtColor(digits_source, cv2.COLOR_BGR2GRAY)\n",
    "\n",
    "# treshold was set to low value, so that bounding boxces would contain whole numbers \n",
    "_, digits_binarny = cv2.threshold(digits_gray,1,255,cv2.THRESH_BINARY)\n",
    "\n",
    "print('Source image: {}'.format(digits_source.shape))\n",
    "print('Gray image: {}'.format(digits_gray.shape))\n",
    "print('Binary image: {}'.format(digits_binarny.shape))\n",
    "\n",
    "plt.imshow(digits_gray, cmap='gray')\n",
    "plt.show()\n",
    "plt.imshow(digits_binarny, cmap='gray')\n",
    "plt.show()\n",
    "\n",
    "digits_labels = label(digits_binarny)\n",
    "plt.imshow(digits_labels)\n",
    "plt.show()\n",
    "\n",
    "digits_features = regionprops(digits_labels)"
   ]
  },
  {
   "cell_type": "markdown",
   "metadata": {},
   "source": [
    "#### Funkcja wycinająca liczby\n",
    "funkcja ma za zadanie wydobyć odpowiednie kawałki zawierające liczby, a następnie przeskalować je i umieścić w DataFrame razem z odpowiednią etykietą"
   ]
  },
  {
   "cell_type": "code",
   "execution_count": 346,
   "metadata": {},
   "outputs": [],
   "source": [
    "# określenie odpowiedniego zbioru rzeczywistych etykiet\n",
    "# dodatkowo przeformatujemy liczby na wymiary 20x20, dla łatwiejszej analizy potem\n",
    "\n",
    "# tu zacznie się funkcja\n",
    "def crop_elements(source_img, labels, features, train=True):\n",
    "    plt.imshow(labels)\n",
    "\n",
    "    images_df = pd.DataFrame(columns=['image'])\n",
    "    \n",
    "    labels_count = len(np.unique(labels)[1:])\n",
    "    \n",
    "    digits = np.arange(0, labels_count)\n",
    "    images_cropped = np.zeros((labels_count, 20, 20, 3))\n",
    "    \n",
    "    for digit, feature in enumerate(features):\n",
    "        digits[digit] = digit\n",
    "\n",
    "        minr, minc, maxr, maxc = feature.bbox\n",
    "        \n",
    "        minr = minr - 1\n",
    "        minc = minc - 1\n",
    "        maxr = maxr + 1\n",
    "        maxc = maxc + 1\n",
    "\n",
    "        bx = (minc, maxc, maxc, minc, minc)\n",
    "        by = (minr, minr, maxr, maxr, minr)\n",
    "        plt.plot(bx, by, '-y', linewidth=1)\n",
    "\n",
    "        img_cropped = np.array(source_img[minr:maxr, minc:maxc])\n",
    "        images_cropped[digit] = np.array(cv2.resize(img_cropped, (20,20), interpolation = cv2.INTER_AREA))\n",
    "\n",
    "        \n",
    "        #images_df = images_df.append(pd.DataFrame(columns=['image'], data=[[np.array(img_cropped)]]), ignore_index=True)\n",
    "    #images_df['image'] = images_cropped                \n",
    "    #images_df['digit'] = digits\n",
    "\n",
    "    \n",
    "    return images_cropped/255, digits"
   ]
  },
  {
   "cell_type": "code",
   "execution_count": 347,
   "metadata": {},
   "outputs": [
    {
     "data": {
      "image/png": "[encoded data removed]",
      "text/plain": [
       "<Figure size 432x288 with 1 Axes>"
      ]
     },
     "metadata": {
      "needs_background": "light"
     },
     "output_type": "display_data"
    }
   ],
   "source": [
    "oryginal_img, oryginal_labels = crop_elements(digits_source, digits_labels, digits_features)"
   ]
  },
  {
   "cell_type": "code",
   "execution_count": 348,
   "metadata": {},
   "outputs": [],
   "source": [
    "# podział a x i y train - dodatkowo należy zamienić dane o cyfrze na 10 kolumn kategorycznych i teakie dane potraktować jako wyjście z sieci\n",
    "x_train = oryginal_img\n",
    "\n",
    "y_train = oryginal_labels\n",
    "y_train = tf.keras.utils.to_categorical(y_train)"
   ]
  },
  {
   "cell_type": "code",
   "execution_count": 349,
   "metadata": {},
   "outputs": [
    {
     "data": {
      "text/plain": [
       "array([[1., 0., 0., 0., 0., 0., 0., 0., 0., 0.],\n",
       "       [0., 1., 0., 0., 0., 0., 0., 0., 0., 0.],\n",
       "       [0., 0., 1., 0., 0., 0., 0., 0., 0., 0.],\n",
       "       [0., 0., 0., 1., 0., 0., 0., 0., 0., 0.],\n",
       "       [0., 0., 0., 0., 1., 0., 0., 0., 0., 0.],\n",
       "       [0., 0., 0., 0., 0., 1., 0., 0., 0., 0.],\n",
       "       [0., 0., 0., 0., 0., 0., 1., 0., 0., 0.],\n",
       "       [0., 0., 0., 0., 0., 0., 0., 1., 0., 0.],\n",
       "       [0., 0., 0., 0., 0., 0., 0., 0., 1., 0.],\n",
       "       [0., 0., 0., 0., 0., 0., 0., 0., 0., 1.]], dtype=float32)"
      ]
     },
     "execution_count": 349,
     "metadata": {},
     "output_type": "execute_result"
    }
   ],
   "source": [
    "y_train"
   ]
  },
  {
   "cell_type": "code",
   "execution_count": 350,
   "metadata": {},
   "outputs": [
    {
     "data": {
      "image/png": "[encoded data removed]",
      "text/plain": [
       "<Figure size 432x288 with 1 Axes>"
      ]
     },
     "metadata": {
      "needs_background": "light"
     },
     "output_type": "display_data"
    },
    {
     "data": {
      "image/png": "[encoded data removed]",
      "text/plain": [
       "<Figure size 432x288 with 1 Axes>"
      ]
     },
     "metadata": {
      "needs_background": "light"
     },
     "output_type": "display_data"
    }
   ],
   "source": [
    "plt.imshow(oryginal_img[1])\n",
    "plt.show()\n",
    "plt.imshow(oryginal_img[8])\n",
    "plt.show()"
   ]
  },
  {
   "cell_type": "markdown",
   "metadata": {},
   "source": [
    "#### Data Generator \n",
    "Ustawienie odpowiedniego generatora danych pozwoli w pewnych zakresach zmieniać zdjęcia przed wprowadzeniem ich do modelu"
   ]
  },
  {
   "cell_type": "code",
   "execution_count": 351,
   "metadata": {},
   "outputs": [],
   "source": [
    "def invert_colors(img):\n",
    "    return 1-img\n",
    "\n",
    "datagen = ImageDataGenerator(\n",
    "    rotation_range=10,\n",
    "    width_shift_range=5,\n",
    "    height_shift_range=5,\n",
    "    zoom_range=[0.95, 1.50],\n",
    "    preprocessing_function=invert_colors,\n",
    "    fill_mode='nearest',\n",
    "    channel_shift_range=0.3)"
   ]
  },
  {
   "cell_type": "code",
   "execution_count": 352,
   "metadata": {},
   "outputs": [
    {
     "data": {
      "image/png": "[encoded data removed]",
      "text/plain": [
       "<Figure size 432x288 with 1 Axes>"
      ]
     },
     "metadata": {
      "needs_background": "light"
     },
     "output_type": "display_data"
    },
    {
     "data": {
      "image/png": "[encoded data removed]",
      "text/plain": [
       "<Figure size 432x288 with 1 Axes>"
      ]
     },
     "metadata": {
      "needs_background": "light"
     },
     "output_type": "display_data"
    }
   ],
   "source": [
    "# przykładowa transformacja generatora na '1'\n",
    "plt.imshow(x_train[1])\n",
    "plt.show()\n",
    "\n",
    "plt.imshow(datagen.random_transform(x_train[1]))\n",
    "plt.show()"
   ]
  },
  {
   "cell_type": "code",
   "execution_count": 353,
   "metadata": {},
   "outputs": [
    {
     "data": {
      "image/png": "[encoded data removed]",
      "text/plain": [
       "<Figure size 432x288 with 1 Axes>"
      ]
     },
     "metadata": {
      "needs_background": "light"
     },
     "output_type": "display_data"
    },
    {
     "data": {
      "image/png": "[encoded data removed]",
      "text/plain": [
       "<Figure size 432x288 with 1 Axes>"
      ]
     },
     "metadata": {
      "needs_background": "light"
     },
     "output_type": "display_data"
    }
   ],
   "source": [
    "# przykładowa transformacja generatora na '1'\n",
    "plt.imshow(x_train[7])\n",
    "plt.show()\n",
    "\n",
    "plt.imshow(datagen.random_transform(x_train[7]))\n",
    "plt.show()"
   ]
  },
  {
   "cell_type": "markdown",
   "metadata": {},
   "source": [
    "Łatwo można zauwazyć, że 1 i 7 moga być pomylone przez model, mam jednak nadzieję, że uda się pominąć taki problem"
   ]
  },
  {
   "cell_type": "markdown",
   "metadata": {},
   "source": [
    "#### CNN"
   ]
  },
  {
   "cell_type": "code",
   "execution_count": 354,
   "metadata": {},
   "outputs": [],
   "source": [
    "# import potrzebnych warstw\n",
    "from keras.models import Sequential\n",
    "from keras.layers import Dense, Conv2D, Flatten, MaxPool2D\n",
    "\n",
    "model = Sequential()\n",
    "\n",
    "# CONVOLUTIONAL LAYER\n",
    "model.add(Conv2D(filters=32, kernel_size=(4,4),input_shape=(20, 20, 3), activation='relu',))\n",
    "# POOLING LAYER\n",
    "model.add(MaxPool2D(pool_size=(2, 2)))\n",
    "# FLATTEN IMAGES FROM 28 by 28 to 764 BEFORE FINAL LAYER\n",
    "model.add(Flatten())\n",
    "# 128 NEURONS IN DENSE HIDDEN LAYER (YOU CAN CHANGE THIS NUMBER OF NEURONS)\n",
    "model.add(Dense(128, activation='relu'))\n",
    "# LAST LAYER IS THE CLASSIFIER, THUS 10 POSSIBLE CLASSES\n",
    "model.add(Dense(10, activation='softmax'))\n",
    "\n",
    "model.compile(optimizer='adam', loss='categorical_crossentropy', metrics=['accuracy'])"
   ]
  },
  {
   "cell_type": "markdown",
   "metadata": {},
   "source": [
    "#### Early Stopping "
   ]
  },
  {
   "cell_type": "code",
   "execution_count": 355,
   "metadata": {},
   "outputs": [],
   "source": [
    "from tensorflow.keras.callbacks import EarlyStopping\n",
    "\n",
    "early_stop = EarlyStopping(monitor='val_loss',patience=10)"
   ]
  },
  {
   "cell_type": "markdown",
   "metadata": {},
   "source": [
    "#### Definicja generatorów"
   ]
  },
  {
   "cell_type": "code",
   "execution_count": 356,
   "metadata": {},
   "outputs": [],
   "source": [
    "train_gen = datagen.flow(x_train, y_train, batch_size=64)\n",
    "\n",
    "val_gen = datagen.flow(x_train, y_train, batch_size=64)"
   ]
  },
  {
   "cell_type": "code",
   "execution_count": 357,
   "metadata": {},
   "outputs": [
    {
     "name": "stdout",
     "output_type": "stream",
     "text": [
      "Epoch 1/150\n",
      "1/1 [==============================] - 0s 178ms/step - loss: 2.3749 - accuracy: 0.1000 - val_loss: 2.3305 - val_accuracy: 0.1000\n",
      "Epoch 2/150\n",
      "1/1 [==============================] - 0s 26ms/step - loss: 2.3166 - accuracy: 0.3000 - val_loss: 2.2957 - val_accuracy: 0.2000\n",
      "Epoch 3/150\n",
      "1/1 [==============================] - 0s 110ms/step - loss: 2.2480 - accuracy: 0.3000 - val_loss: 2.2505 - val_accuracy: 0.2000\n",
      "Epoch 4/150\n",
      "1/1 [==============================] - 0s 104ms/step - loss: 2.2922 - accuracy: 0.0000e+00 - val_loss: 2.2697 - val_accuracy: 0.1000\n",
      "Epoch 5/150\n",
      "1/1 [==============================] - 0s 107ms/step - loss: 2.2764 - accuracy: 0.2000 - val_loss: 2.2742 - val_accuracy: 0.2000\n",
      "Epoch 6/150\n",
      "1/1 [==============================] - 0s 116ms/step - loss: 2.2939 - accuracy: 0.0000e+00 - val_loss: 2.2194 - val_accuracy: 0.3000\n",
      "Epoch 7/150\n",
      "1/1 [==============================] - 0s 100ms/step - loss: 2.2618 - accuracy: 0.2000 - val_loss: 2.2445 - val_accuracy: 0.6000\n",
      "Epoch 8/150\n",
      "1/1 [==============================] - 0s 117ms/step - loss: 2.2375 - accuracy: 0.4000 - val_loss: 2.1919 - val_accuracy: 0.3000\n",
      "Epoch 9/150\n",
      "1/1 [==============================] - 0s 97ms/step - loss: 2.1938 - accuracy: 0.4000 - val_loss: 2.1718 - val_accuracy: 0.2000\n",
      "Epoch 10/150\n",
      "1/1 [==============================] - 0s 105ms/step - loss: 2.2595 - accuracy: 0.2000 - val_loss: 2.2247 - val_accuracy: 0.2000\n",
      "Epoch 11/150\n",
      "1/1 [==============================] - 0s 105ms/step - loss: 2.2087 - accuracy: 0.3000 - val_loss: 2.2139 - val_accuracy: 0.4000\n",
      "Epoch 12/150\n",
      "1/1 [==============================] - 0s 97ms/step - loss: 2.1922 - accuracy: 0.2000 - val_loss: 2.1969 - val_accuracy: 0.2000\n",
      "Epoch 13/150\n",
      "1/1 [==============================] - 0s 101ms/step - loss: 2.1034 - accuracy: 0.3000 - val_loss: 2.2494 - val_accuracy: 0.1000\n",
      "Epoch 14/150\n",
      "1/1 [==============================] - 0s 99ms/step - loss: 2.0708 - accuracy: 0.4000 - val_loss: 2.0946 - val_accuracy: 0.4000\n",
      "Epoch 15/150\n",
      "1/1 [==============================] - 0s 105ms/step - loss: 2.1586 - accuracy: 0.3000 - val_loss: 2.1350 - val_accuracy: 0.3000\n",
      "Epoch 16/150\n",
      "1/1 [==============================] - 0s 102ms/step - loss: 2.1612 - accuracy: 0.4000 - val_loss: 2.0952 - val_accuracy: 0.3000\n",
      "Epoch 17/150\n",
      "1/1 [==============================] - 0s 101ms/step - loss: 2.1526 - accuracy: 0.4000 - val_loss: 2.1033 - val_accuracy: 0.3000\n",
      "Epoch 18/150\n",
      "1/1 [==============================] - 0s 103ms/step - loss: 1.9634 - accuracy: 0.6000 - val_loss: 2.0728 - val_accuracy: 0.4000\n",
      "Epoch 19/150\n",
      "1/1 [==============================] - 0s 104ms/step - loss: 2.0257 - accuracy: 0.5000 - val_loss: 2.0742 - val_accuracy: 0.4000\n",
      "Epoch 20/150\n",
      "1/1 [==============================] - 0s 102ms/step - loss: 2.0027 - accuracy: 0.4000 - val_loss: 1.9989 - val_accuracy: 0.5000\n",
      "Epoch 21/150\n",
      "1/1 [==============================] - 0s 106ms/step - loss: 2.0104 - accuracy: 0.5000 - val_loss: 1.8784 - val_accuracy: 0.7000\n",
      "Epoch 22/150\n",
      "1/1 [==============================] - 0s 98ms/step - loss: 1.8804 - accuracy: 0.7000 - val_loss: 2.1529 - val_accuracy: 0.2000\n",
      "Epoch 23/150\n",
      "1/1 [==============================] - 0s 105ms/step - loss: 2.0596 - accuracy: 0.2000 - val_loss: 1.9883 - val_accuracy: 0.5000\n",
      "Epoch 24/150\n",
      "1/1 [==============================] - 0s 99ms/step - loss: 1.9989 - accuracy: 0.3000 - val_loss: 2.1629 - val_accuracy: 0.3000\n",
      "Epoch 25/150\n",
      "1/1 [==============================] - 0s 99ms/step - loss: 2.0066 - accuracy: 0.3000 - val_loss: 1.9013 - val_accuracy: 0.5000\n",
      "Epoch 26/150\n",
      "1/1 [==============================] - 0s 99ms/step - loss: 1.8379 - accuracy: 0.6000 - val_loss: 1.9925 - val_accuracy: 0.3000\n",
      "Epoch 27/150\n",
      "1/1 [==============================] - 0s 100ms/step - loss: 1.9572 - accuracy: 0.3000 - val_loss: 1.8830 - val_accuracy: 0.7000\n",
      "Epoch 28/150\n",
      "1/1 [==============================] - 0s 102ms/step - loss: 1.8797 - accuracy: 0.4000 - val_loss: 1.7268 - val_accuracy: 0.6000\n",
      "Epoch 29/150\n",
      "1/1 [==============================] - 0s 98ms/step - loss: 1.8496 - accuracy: 0.4000 - val_loss: 1.8728 - val_accuracy: 0.4000\n",
      "Epoch 30/150\n",
      "1/1 [==============================] - 0s 105ms/step - loss: 1.9686 - accuracy: 0.5000 - val_loss: 1.6424 - val_accuracy: 0.6000\n",
      "Epoch 31/150\n",
      "1/1 [==============================] - 0s 100ms/step - loss: 1.7161 - accuracy: 0.5000 - val_loss: 1.6277 - val_accuracy: 0.7000\n",
      "Epoch 32/150\n",
      "1/1 [==============================] - 0s 101ms/step - loss: 1.8320 - accuracy: 0.5000 - val_loss: 1.9050 - val_accuracy: 0.3000\n",
      "Epoch 33/150\n",
      "1/1 [==============================] - 0s 102ms/step - loss: 1.8580 - accuracy: 0.5000 - val_loss: 1.8682 - val_accuracy: 0.4000\n",
      "Epoch 34/150\n",
      "1/1 [==============================] - 0s 100ms/step - loss: 1.7339 - accuracy: 0.5000 - val_loss: 1.5828 - val_accuracy: 0.5000\n",
      "Epoch 35/150\n",
      "1/1 [==============================] - 0s 103ms/step - loss: 1.7668 - accuracy: 0.2000 - val_loss: 1.6684 - val_accuracy: 0.6000\n",
      "Epoch 36/150\n",
      "1/1 [==============================] - 0s 99ms/step - loss: 1.7511 - accuracy: 0.4000 - val_loss: 2.0623 - val_accuracy: 0.3000\n",
      "Epoch 37/150\n",
      "1/1 [==============================] - 0s 109ms/step - loss: 1.5702 - accuracy: 0.5000 - val_loss: 2.0869 - val_accuracy: 0.4000\n",
      "Epoch 38/150\n",
      "1/1 [==============================] - 0s 97ms/step - loss: 1.7431 - accuracy: 0.5000 - val_loss: 1.4937 - val_accuracy: 0.6000\n",
      "Epoch 39/150\n",
      "1/1 [==============================] - 0s 103ms/step - loss: 1.8007 - accuracy: 0.4000 - val_loss: 1.7326 - val_accuracy: 0.4000\n",
      "Epoch 40/150\n",
      "1/1 [==============================] - 0s 102ms/step - loss: 1.6103 - accuracy: 0.7000 - val_loss: 1.7642 - val_accuracy: 0.4000\n",
      "Epoch 41/150\n",
      "1/1 [==============================] - 0s 103ms/step - loss: 1.8564 - accuracy: 0.4000 - val_loss: 1.3922 - val_accuracy: 0.7000\n",
      "Epoch 42/150\n",
      "1/1 [==============================] - 0s 101ms/step - loss: 1.9803 - accuracy: 0.2000 - val_loss: 1.6271 - val_accuracy: 0.4000\n",
      "Epoch 43/150\n",
      "1/1 [==============================] - 0s 99ms/step - loss: 1.4498 - accuracy: 0.6000 - val_loss: 2.0320 - val_accuracy: 0.3000\n",
      "Epoch 44/150\n",
      "1/1 [==============================] - 0s 100ms/step - loss: 1.5305 - accuracy: 0.5000 - val_loss: 1.5673 - val_accuracy: 0.5000\n",
      "Epoch 45/150\n",
      "1/1 [==============================] - 0s 106ms/step - loss: 1.7752 - accuracy: 0.4000 - val_loss: 1.4447 - val_accuracy: 0.5000\n",
      "Epoch 46/150\n",
      "1/1 [==============================] - 0s 103ms/step - loss: 1.5107 - accuracy: 0.7000 - val_loss: 1.4688 - val_accuracy: 0.5000\n",
      "Epoch 47/150\n",
      "1/1 [==============================] - 0s 101ms/step - loss: 1.4147 - accuracy: 0.6000 - val_loss: 1.4193 - val_accuracy: 0.6000\n",
      "Epoch 48/150\n",
      "1/1 [==============================] - 0s 100ms/step - loss: 1.6131 - accuracy: 0.5000 - val_loss: 1.4995 - val_accuracy: 0.7000\n",
      "Epoch 49/150\n",
      "1/1 [==============================] - 0s 99ms/step - loss: 1.6577 - accuracy: 0.4000 - val_loss: 1.5386 - val_accuracy: 0.6000\n",
      "Epoch 50/150\n",
      "1/1 [==============================] - 0s 96ms/step - loss: 1.5546 - accuracy: 0.6000 - val_loss: 2.0766 - val_accuracy: 0.4000\n",
      "Epoch 51/150\n",
      "1/1 [==============================] - 0s 101ms/step - loss: 1.7619 - accuracy: 0.5000 - val_loss: 1.5580 - val_accuracy: 0.4000\n",
      "Epoch 52/150\n",
      "1/1 [==============================] - 0s 101ms/step - loss: 1.7937 - accuracy: 0.6000 - val_loss: 1.4538 - val_accuracy: 0.5000\n",
      "Epoch 53/150\n",
      "1/1 [==============================] - 0s 98ms/step - loss: 1.4827 - accuracy: 0.5000 - val_loss: 1.4867 - val_accuracy: 0.5000\n",
      "Epoch 54/150\n",
      "1/1 [==============================] - 0s 101ms/step - loss: 1.2899 - accuracy: 0.6000 - val_loss: 1.9475 - val_accuracy: 0.4000\n",
      "Epoch 55/150\n",
      "1/1 [==============================] - 0s 99ms/step - loss: 1.2896 - accuracy: 0.4000 - val_loss: 1.3461 - val_accuracy: 0.5000\n",
      "Epoch 56/150\n",
      "1/1 [==============================] - 0s 97ms/step - loss: 1.4177 - accuracy: 0.5000 - val_loss: 1.8251 - val_accuracy: 0.4000\n",
      "Epoch 57/150\n",
      "1/1 [==============================] - 0s 101ms/step - loss: 1.1484 - accuracy: 0.7000 - val_loss: 1.6441 - val_accuracy: 0.4000\n",
      "Epoch 58/150\n",
      "1/1 [==============================] - 0s 104ms/step - loss: 1.4587 - accuracy: 0.6000 - val_loss: 1.2190 - val_accuracy: 0.6000\n",
      "Epoch 59/150\n",
      "1/1 [==============================] - 0s 109ms/step - loss: 1.2031 - accuracy: 0.7000 - val_loss: 1.4066 - val_accuracy: 0.4000\n",
      "Epoch 60/150\n",
      "1/1 [==============================] - 0s 105ms/step - loss: 1.2020 - accuracy: 0.6000 - val_loss: 1.2815 - val_accuracy: 0.6000\n",
      "Epoch 61/150\n",
      "1/1 [==============================] - 0s 99ms/step - loss: 1.3960 - accuracy: 0.4000 - val_loss: 1.1925 - val_accuracy: 0.8000\n",
      "Epoch 62/150\n",
      "1/1 [==============================] - 0s 97ms/step - loss: 1.7862 - accuracy: 0.3000 - val_loss: 1.5404 - val_accuracy: 0.5000\n",
      "Epoch 63/150\n",
      "1/1 [==============================] - 0s 104ms/step - loss: 1.4172 - accuracy: 0.4000 - val_loss: 1.3995 - val_accuracy: 0.5000\n",
      "Epoch 64/150\n",
      "1/1 [==============================] - 0s 101ms/step - loss: 1.2879 - accuracy: 0.6000 - val_loss: 1.3132 - val_accuracy: 0.5000\n",
      "Epoch 65/150\n",
      "1/1 [==============================] - 0s 103ms/step - loss: 1.5274 - accuracy: 0.5000 - val_loss: 1.4102 - val_accuracy: 0.5000\n",
      "Epoch 66/150\n",
      "1/1 [==============================] - 0s 95ms/step - loss: 1.5344 - accuracy: 0.6000 - val_loss: 1.5167 - val_accuracy: 0.6000\n",
      "Epoch 67/150\n",
      "1/1 [==============================] - 0s 108ms/step - loss: 1.3079 - accuracy: 0.7000 - val_loss: 1.6529 - val_accuracy: 0.3000\n",
      "Epoch 68/150\n",
      "1/1 [==============================] - 0s 102ms/step - loss: 1.2914 - accuracy: 0.6000 - val_loss: 0.9908 - val_accuracy: 0.6000\n",
      "Epoch 69/150\n",
      "1/1 [==============================] - 0s 99ms/step - loss: 1.4124 - accuracy: 0.4000 - val_loss: 1.3862 - val_accuracy: 0.7000\n",
      "Epoch 70/150\n",
      "1/1 [==============================] - 0s 103ms/step - loss: 1.1078 - accuracy: 0.7000 - val_loss: 1.7438 - val_accuracy: 0.4000\n",
      "Epoch 71/150\n",
      "1/1 [==============================] - 0s 101ms/step - loss: 1.1442 - accuracy: 0.6000 - val_loss: 1.4119 - val_accuracy: 0.6000\n",
      "Epoch 72/150\n",
      "1/1 [==============================] - 0s 117ms/step - loss: 1.2425 - accuracy: 0.7000 - val_loss: 1.0810 - val_accuracy: 0.6000\n",
      "Epoch 73/150\n",
      "1/1 [==============================] - 0s 84ms/step - loss: 1.2927 - accuracy: 0.4000 - val_loss: 1.3110 - val_accuracy: 0.6000\n",
      "Epoch 74/150\n",
      "1/1 [==============================] - 0s 98ms/step - loss: 0.9995 - accuracy: 0.7000 - val_loss: 1.6242 - val_accuracy: 0.4000\n",
      "Epoch 75/150\n",
      "1/1 [==============================] - 0s 100ms/step - loss: 1.3846 - accuracy: 0.7000 - val_loss: 1.4576 - val_accuracy: 0.5000\n",
      "Epoch 76/150\n",
      "1/1 [==============================] - 0s 111ms/step - loss: 1.3272 - accuracy: 0.6000 - val_loss: 1.0637 - val_accuracy: 0.7000\n",
      "Epoch 77/150\n",
      "1/1 [==============================] - 0s 96ms/step - loss: 1.4888 - accuracy: 0.6000 - val_loss: 1.0860 - val_accuracy: 0.8000\n",
      "Epoch 78/150\n",
      "1/1 [==============================] - 0s 99ms/step - loss: 1.2361 - accuracy: 0.5000 - val_loss: 1.1120 - val_accuracy: 0.6000\n",
      "Epoch 79/150\n",
      "1/1 [==============================] - 0s 100ms/step - loss: 1.4166 - accuracy: 0.6000 - val_loss: 1.3907 - val_accuracy: 0.5000\n",
      "Epoch 80/150\n",
      "1/1 [==============================] - 0s 100ms/step - loss: 1.0554 - accuracy: 0.7000 - val_loss: 1.2775 - val_accuracy: 0.6000\n",
      "Epoch 81/150\n",
      "1/1 [==============================] - 0s 100ms/step - loss: 1.1290 - accuracy: 0.8000 - val_loss: 1.2849 - val_accuracy: 0.7000\n",
      "Epoch 82/150\n",
      "1/1 [==============================] - 0s 101ms/step - loss: 0.9981 - accuracy: 0.7000 - val_loss: 1.3182 - val_accuracy: 0.6000\n",
      "Epoch 83/150\n",
      "1/1 [==============================] - 0s 98ms/step - loss: 0.9673 - accuracy: 0.8000 - val_loss: 1.0496 - val_accuracy: 0.8000\n",
      "Epoch 84/150\n",
      "1/1 [==============================] - 0s 100ms/step - loss: 1.3184 - accuracy: 0.6000 - val_loss: 1.0351 - val_accuracy: 0.6000\n",
      "Epoch 85/150\n",
      "1/1 [==============================] - 0s 98ms/step - loss: 1.3327 - accuracy: 0.4000 - val_loss: 1.0353 - val_accuracy: 0.7000\n",
      "Epoch 86/150\n",
      "1/1 [==============================] - 0s 100ms/step - loss: 1.0220 - accuracy: 0.8000 - val_loss: 0.9864 - val_accuracy: 0.6000\n",
      "Epoch 87/150\n",
      "1/1 [==============================] - 0s 100ms/step - loss: 1.1539 - accuracy: 0.5000 - val_loss: 1.3168 - val_accuracy: 0.4000\n",
      "Epoch 88/150\n",
      "1/1 [==============================] - 0s 118ms/step - loss: 0.7909 - accuracy: 0.8000 - val_loss: 0.9642 - val_accuracy: 0.6000\n",
      "Epoch 89/150\n",
      "1/1 [==============================] - 0s 92ms/step - loss: 0.9083 - accuracy: 0.7000 - val_loss: 1.3870 - val_accuracy: 0.5000\n",
      "Epoch 90/150\n",
      "1/1 [==============================] - 0s 101ms/step - loss: 1.3044 - accuracy: 0.6000 - val_loss: 0.9996 - val_accuracy: 0.7000\n",
      "Epoch 91/150\n",
      "1/1 [==============================] - 0s 100ms/step - loss: 1.3631 - accuracy: 0.4000 - val_loss: 1.0656 - val_accuracy: 0.5000\n",
      "Epoch 92/150\n",
      "1/1 [==============================] - 0s 100ms/step - loss: 1.2002 - accuracy: 0.6000 - val_loss: 0.9510 - val_accuracy: 0.7000\n",
      "Epoch 93/150\n",
      "1/1 [==============================] - 0s 99ms/step - loss: 1.0010 - accuracy: 0.6000 - val_loss: 1.0976 - val_accuracy: 0.4000\n",
      "Epoch 94/150\n",
      "1/1 [==============================] - 0s 100ms/step - loss: 0.8889 - accuracy: 0.8000 - val_loss: 1.1344 - val_accuracy: 0.8000\n",
      "Epoch 95/150\n",
      "1/1 [==============================] - 0s 102ms/step - loss: 0.8729 - accuracy: 0.7000 - val_loss: 1.1271 - val_accuracy: 0.7000\n",
      "Epoch 96/150\n",
      "1/1 [==============================] - 0s 100ms/step - loss: 1.1972 - accuracy: 0.7000 - val_loss: 1.1107 - val_accuracy: 0.6000\n",
      "Epoch 97/150\n",
      "1/1 [==============================] - 0s 99ms/step - loss: 1.2264 - accuracy: 0.5000 - val_loss: 0.8670 - val_accuracy: 0.7000\n",
      "Epoch 98/150\n",
      "1/1 [==============================] - 0s 103ms/step - loss: 0.9563 - accuracy: 0.6000 - val_loss: 0.6715 - val_accuracy: 0.8000\n",
      "Epoch 99/150\n",
      "1/1 [==============================] - 0s 99ms/step - loss: 0.8907 - accuracy: 0.7000 - val_loss: 0.6007 - val_accuracy: 1.0000\n",
      "Epoch 100/150\n",
      "1/1 [==============================] - 0s 100ms/step - loss: 1.2305 - accuracy: 0.6000 - val_loss: 1.0557 - val_accuracy: 0.7000\n",
      "Epoch 101/150\n",
      "1/1 [==============================] - 0s 100ms/step - loss: 0.9012 - accuracy: 0.7000 - val_loss: 0.8031 - val_accuracy: 0.8000\n",
      "Epoch 102/150\n",
      "1/1 [==============================] - 0s 99ms/step - loss: 1.3312 - accuracy: 0.4000 - val_loss: 1.1642 - val_accuracy: 0.4000\n",
      "Epoch 103/150\n",
      "1/1 [==============================] - 0s 99ms/step - loss: 1.3231 - accuracy: 0.5000 - val_loss: 1.0023 - val_accuracy: 0.6000\n",
      "Epoch 104/150\n",
      "1/1 [==============================] - 0s 109ms/step - loss: 0.8583 - accuracy: 0.8000 - val_loss: 1.0771 - val_accuracy: 0.7000\n",
      "Epoch 105/150\n",
      "1/1 [==============================] - 0s 97ms/step - loss: 1.4992 - accuracy: 0.4000 - val_loss: 1.0662 - val_accuracy: 0.8000\n",
      "Epoch 106/150\n",
      "1/1 [==============================] - 0s 100ms/step - loss: 1.0418 - accuracy: 0.8000 - val_loss: 0.7000 - val_accuracy: 0.8000\n",
      "Epoch 107/150\n",
      "1/1 [==============================] - 0s 102ms/step - loss: 1.1604 - accuracy: 0.7000 - val_loss: 1.3929 - val_accuracy: 0.7000\n",
      "Epoch 108/150\n",
      "1/1 [==============================] - 0s 106ms/step - loss: 1.1780 - accuracy: 0.6000 - val_loss: 1.0915 - val_accuracy: 0.7000\n",
      "Epoch 109/150\n",
      "1/1 [==============================] - 0s 98ms/step - loss: 1.1935 - accuracy: 0.6000 - val_loss: 1.1595 - val_accuracy: 0.6000\n",
      "Epoch 110/150\n",
      "1/1 [==============================] - 0s 102ms/step - loss: 0.9480 - accuracy: 0.7000 - val_loss: 0.7151 - val_accuracy: 0.7000\n",
      "Epoch 111/150\n",
      "1/1 [==============================] - 0s 108ms/step - loss: 0.9153 - accuracy: 0.7000 - val_loss: 1.1548 - val_accuracy: 0.5000\n",
      "Epoch 112/150\n",
      "1/1 [==============================] - 0s 97ms/step - loss: 0.8688 - accuracy: 0.8000 - val_loss: 0.6631 - val_accuracy: 0.9000\n",
      "Epoch 113/150\n",
      "1/1 [==============================] - 0s 99ms/step - loss: 1.1948 - accuracy: 0.7000 - val_loss: 0.8461 - val_accuracy: 0.7000\n",
      "Epoch 114/150\n",
      "1/1 [==============================] - 0s 103ms/step - loss: 0.9894 - accuracy: 0.8000 - val_loss: 0.9721 - val_accuracy: 0.6000\n",
      "Epoch 115/150\n",
      "1/1 [==============================] - 0s 101ms/step - loss: 0.9644 - accuracy: 0.8000 - val_loss: 0.9784 - val_accuracy: 0.7000\n",
      "Epoch 116/150\n",
      "1/1 [==============================] - 0s 98ms/step - loss: 0.9005 - accuracy: 0.7000 - val_loss: 1.3845 - val_accuracy: 0.3000\n",
      "Epoch 117/150\n",
      "1/1 [==============================] - 0s 99ms/step - loss: 1.2344 - accuracy: 0.7000 - val_loss: 0.9544 - val_accuracy: 0.7000\n",
      "Epoch 118/150\n",
      "1/1 [==============================] - 0s 100ms/step - loss: 0.7583 - accuracy: 0.8000 - val_loss: 0.7875 - val_accuracy: 0.8000\n",
      "Epoch 119/150\n",
      "1/1 [==============================] - 0s 100ms/step - loss: 0.9428 - accuracy: 0.8000 - val_loss: 0.7617 - val_accuracy: 0.7000\n",
      "Epoch 120/150\n",
      "1/1 [==============================] - 0s 97ms/step - loss: 0.5639 - accuracy: 0.8000 - val_loss: 0.7100 - val_accuracy: 0.9000\n",
      "Epoch 121/150\n",
      "1/1 [==============================] - 0s 104ms/step - loss: 0.7845 - accuracy: 0.8000 - val_loss: 0.8139 - val_accuracy: 0.7000\n",
      "Epoch 122/150\n",
      "1/1 [==============================] - 0s 99ms/step - loss: 1.2846 - accuracy: 0.5000 - val_loss: 0.8857 - val_accuracy: 0.6000\n",
      "Epoch 123/150\n",
      "1/1 [==============================] - 0s 98ms/step - loss: 0.7673 - accuracy: 0.8000 - val_loss: 0.8112 - val_accuracy: 0.7000\n",
      "Epoch 124/150\n",
      "1/1 [==============================] - 0s 98ms/step - loss: 1.5146 - accuracy: 0.5000 - val_loss: 1.2718 - val_accuracy: 0.6000\n",
      "Epoch 125/150\n",
      "1/1 [==============================] - 0s 99ms/step - loss: 0.6934 - accuracy: 0.8000 - val_loss: 0.6823 - val_accuracy: 0.8000\n",
      "Epoch 126/150\n",
      "1/1 [==============================] - 0s 99ms/step - loss: 0.9253 - accuracy: 0.7000 - val_loss: 0.9275 - val_accuracy: 0.8000\n",
      "Epoch 127/150\n",
      "1/1 [==============================] - 0s 100ms/step - loss: 0.8211 - accuracy: 0.7000 - val_loss: 0.8397 - val_accuracy: 0.8000\n",
      "Epoch 128/150\n",
      "1/1 [==============================] - 0s 105ms/step - loss: 1.0433 - accuracy: 0.6000 - val_loss: 0.7496 - val_accuracy: 0.8000\n",
      "Epoch 129/150\n",
      "1/1 [==============================] - 0s 100ms/step - loss: 0.6588 - accuracy: 0.8000 - val_loss: 1.0949 - val_accuracy: 0.7000\n",
      "Epoch 130/150\n",
      "1/1 [==============================] - 0s 101ms/step - loss: 0.8897 - accuracy: 0.6000 - val_loss: 0.8754 - val_accuracy: 0.7000\n",
      "Epoch 131/150\n",
      "1/1 [==============================] - 0s 105ms/step - loss: 0.6975 - accuracy: 0.8000 - val_loss: 0.5518 - val_accuracy: 0.9000\n",
      "Epoch 132/150\n",
      "1/1 [==============================] - 0s 99ms/step - loss: 1.1259 - accuracy: 0.5000 - val_loss: 0.7205 - val_accuracy: 0.8000\n",
      "Epoch 133/150\n",
      "1/1 [==============================] - 0s 104ms/step - loss: 0.7857 - accuracy: 0.7000 - val_loss: 0.7226 - val_accuracy: 0.7000\n",
      "Epoch 134/150\n",
      "1/1 [==============================] - 0s 103ms/step - loss: 0.5365 - accuracy: 0.9000 - val_loss: 0.5205 - val_accuracy: 0.9000\n",
      "Epoch 135/150\n",
      "1/1 [==============================] - 0s 100ms/step - loss: 0.8587 - accuracy: 0.7000 - val_loss: 0.5521 - val_accuracy: 1.0000\n",
      "Epoch 136/150\n",
      "1/1 [==============================] - 0s 105ms/step - loss: 0.6796 - accuracy: 0.8000 - val_loss: 0.7437 - val_accuracy: 0.6000\n",
      "Epoch 137/150\n",
      "1/1 [==============================] - 0s 100ms/step - loss: 0.5883 - accuracy: 0.9000 - val_loss: 0.5109 - val_accuracy: 0.9000\n",
      "Epoch 138/150\n",
      "1/1 [==============================] - 0s 103ms/step - loss: 0.6814 - accuracy: 0.7000 - val_loss: 0.8179 - val_accuracy: 0.8000\n",
      "Epoch 139/150\n",
      "1/1 [==============================] - 0s 102ms/step - loss: 0.8084 - accuracy: 0.7000 - val_loss: 1.0525 - val_accuracy: 0.7000\n",
      "Epoch 140/150\n",
      "1/1 [==============================] - 0s 99ms/step - loss: 0.6857 - accuracy: 0.6000 - val_loss: 0.7995 - val_accuracy: 0.8000\n",
      "Epoch 141/150\n",
      "1/1 [==============================] - 0s 104ms/step - loss: 0.4997 - accuracy: 0.9000 - val_loss: 0.8399 - val_accuracy: 0.9000\n",
      "Epoch 142/150\n",
      "1/1 [==============================] - 0s 113ms/step - loss: 0.5887 - accuracy: 0.8000 - val_loss: 0.8731 - val_accuracy: 0.7000\n",
      "Epoch 143/150\n",
      "1/1 [==============================] - 0s 94ms/step - loss: 0.6011 - accuracy: 0.8000 - val_loss: 0.5833 - val_accuracy: 0.8000\n",
      "Epoch 144/150\n",
      "1/1 [==============================] - 0s 105ms/step - loss: 0.7635 - accuracy: 0.8000 - val_loss: 0.5244 - val_accuracy: 0.9000\n",
      "Epoch 145/150\n",
      "1/1 [==============================] - 0s 98ms/step - loss: 0.3223 - accuracy: 1.0000 - val_loss: 0.4269 - val_accuracy: 0.9000\n",
      "Epoch 146/150\n",
      "1/1 [==============================] - 0s 108ms/step - loss: 0.5787 - accuracy: 0.9000 - val_loss: 1.0897 - val_accuracy: 0.4000\n",
      "Epoch 147/150\n",
      "1/1 [==============================] - 0s 96ms/step - loss: 1.1293 - accuracy: 0.7000 - val_loss: 0.4796 - val_accuracy: 0.9000\n",
      "Epoch 148/150\n",
      "1/1 [==============================] - 0s 100ms/step - loss: 0.6409 - accuracy: 0.8000 - val_loss: 0.6508 - val_accuracy: 0.8000\n",
      "Epoch 149/150\n",
      "1/1 [==============================] - 0s 99ms/step - loss: 0.5255 - accuracy: 0.9000 - val_loss: 0.9539 - val_accuracy: 0.6000\n",
      "Epoch 150/150\n",
      "1/1 [==============================] - 0s 99ms/step - loss: 0.6724 - accuracy: 0.8000 - val_loss: 0.3155 - val_accuracy: 1.0000\n"
     ]
    },
    {
     "data": {
      "text/plain": [
       "<keras.callbacks.callbacks.History at 0x21b55a64080>"
      ]
     },
     "execution_count": 357,
     "metadata": {},
     "output_type": "execute_result"
    }
   ],
   "source": [
    "model.fit_generator(train_gen,\n",
    "                    epochs=150,\n",
    "                    validation_data=val_gen)\n",
    "                    #callbacks=[early_stop])"
   ]
  },
  {
   "cell_type": "code",
   "execution_count": 358,
   "metadata": {},
   "outputs": [
    {
     "name": "stdout",
     "output_type": "stream",
     "text": [
      "predykcja: [0 6 8 6 9 6 6 8 6 9]\n",
      "rzeczywis: [0 1 2 3 4 5 6 7 8 9]\n"
     ]
    }
   ],
   "source": [
    "# Naiwne sprawdzienie działania klasyfikatora\n",
    "predict = model.predict(x_train)\n",
    "\n",
    "print('predykcja: {}'.format(np.argmax(predict, axis=1)))\n",
    "print('rzeczywis: {}'.format(oryginal_labels))"
   ]
  },
  {
   "cell_type": "code",
   "execution_count": 359,
   "metadata": {},
   "outputs": [],
   "source": [
    "losses = pd.DataFrame(model.history.history)"
   ]
  },
  {
   "cell_type": "code",
   "execution_count": 360,
   "metadata": {},
   "outputs": [
    {
     "data": {
      "text/plain": [
       "<AxesSubplot:>"
      ]
     },
     "execution_count": 360,
     "metadata": {},
     "output_type": "execute_result"
    },
    {
     "data": {
      "image/png": "[encoded data removed]",
      "text/plain": [
       "<Figure size 432x288 with 1 Axes>"
      ]
     },
     "metadata": {
      "needs_background": "light"
     },
     "output_type": "display_data"
    }
   ],
   "source": [
    "losses[['loss','val_loss']].plot()"
   ]
  },
  {
   "cell_type": "markdown",
   "metadata": {},
   "source": [
    "#### Przygotowanie danych testowych\n",
    "Wywolanie ziorow testowych i sprawdzenie ich na zbiorze uczacym"
   ]
  },
  {
   "cell_type": "code",
   "execution_count": 361,
   "metadata": {},
   "outputs": [],
   "source": [
    "# połączneie zbiorow w jeden testowy, łatwiej bedzie potem wytworzyć odpowiednie metryki\n",
    "y_test = np.array(digits_test1_real + digits_test2_real + digits_test3_real + digits_test4_real)"
   ]
  },
  {
   "cell_type": "code",
   "execution_count": 362,
   "metadata": {},
   "outputs": [
    {
     "data": {
      "image/png": "[encoded data removed]",
      "text/plain": [
       "<Figure size 432x288 with 1 Axes>"
      ]
     },
     "metadata": {
      "needs_background": "light"
     },
     "output_type": "display_data"
    },
    {
     "data": {
      "image/png": "[encoded data removed]",
      "text/plain": [
       "<Figure size 432x288 with 1 Axes>"
      ]
     },
     "metadata": {
      "needs_background": "light"
     },
     "output_type": "display_data"
    },
    {
     "data": {
      "image/png": "[encoded data removed]",
      "text/plain": [
       "<Figure size 432x288 with 1 Axes>"
      ]
     },
     "metadata": {
      "needs_background": "light"
     },
     "output_type": "display_data"
    },
    {
     "data": {
      "image/png": "[encoded data removed]",
      "text/plain": [
       "<Figure size 432x288 with 1 Axes>"
      ]
     },
     "metadata": {
      "needs_background": "light"
     },
     "output_type": "display_data"
    }
   ],
   "source": [
    "img1, _ = crop_elements(digits_test1_o, digits_test1_1, digits_test1)\n",
    "plt.show()\n",
    "img2, _ = crop_elements(digits_test2_o, digits_test2_1, digits_test2)\n",
    "plt.show()\n",
    "img3, _ = crop_elements(digits_test3_o, digits_test3_1, digits_test3)\n",
    "plt.show()\n",
    "img4, _ = crop_elements(digits_test4_o, digits_test4_1, digits_test4)\n",
    "plt.show()"
   ]
  },
  {
   "cell_type": "code",
   "execution_count": 363,
   "metadata": {},
   "outputs": [
    {
     "name": "stdout",
     "output_type": "stream",
     "text": [
      "wymiary x_test: (81, 20, 20, 3)\n",
      "wymiary y_test: (81,)\n"
     ]
    }
   ],
   "source": [
    "x_test = np.append(img1, img2, axis = 0)\n",
    "x_test = np.append(x_test, img3, axis = 0)\n",
    "x_test = np.append(x_test, img4, axis = 0)\n",
    "\n",
    "# sprawdzenie poprawności rozmiaru\n",
    "print('wymiary x_test: {}'.format(x_test.shape))\n",
    "print('wymiary y_test: {}'.format(y_test.shape))"
   ]
  },
  {
   "cell_type": "code",
   "execution_count": 364,
   "metadata": {},
   "outputs": [
    {
     "data": {
      "text/plain": [
       "<matplotlib.image.AxesImage at 0x21b5893a438>"
      ]
     },
     "execution_count": 364,
     "metadata": {},
     "output_type": "execute_result"
    },
    {
     "data": {
      "image/png": "[encoded data removed]",
      "text/plain": [
       "<Figure size 432x288 with 1 Axes>"
      ]
     },
     "metadata": {
      "needs_background": "light"
     },
     "output_type": "display_data"
    }
   ],
   "source": [
    "plt.imshow(x_test[1])"
   ]
  },
  {
   "cell_type": "code",
   "execution_count": 365,
   "metadata": {},
   "outputs": [
    {
     "data": {
      "text/plain": [
       "<matplotlib.image.AxesImage at 0x21b58998f60>"
      ]
     },
     "execution_count": 365,
     "metadata": {},
     "output_type": "execute_result"
    },
    {
     "data": {
      "image/png": "[encoded data removed]",
      "text/plain": [
       "<Figure size 432x288 with 1 Axes>"
      ]
     },
     "metadata": {
      "needs_background": "light"
     },
     "output_type": "display_data"
    }
   ],
   "source": [
    "plt.imshow(x_test[7])"
   ]
  },
  {
   "cell_type": "markdown",
   "metadata": {},
   "source": [
    "#### Testowanie modelu"
   ]
  },
  {
   "cell_type": "code",
   "execution_count": 366,
   "metadata": {},
   "outputs": [],
   "source": [
    "predictions = model.predict(x_test)\n",
    "\n",
    "# dane do postaci listy\n",
    "y_pred = np.argmax(predictions, axis=1)"
   ]
  },
  {
   "cell_type": "code",
   "execution_count": 367,
   "metadata": {},
   "outputs": [
    {
     "data": {
      "text/plain": [
       "array([8, 5, 7, 2, 3, 4, 5, 1, 0, 0, 1, 1, 3, 3, 4, 5, 6, 7, 6, 9, 3, 4,\n",
       "       9, 4, 1, 2, 4, 3, 0, 8, 9, 3, 7, 6, 6, 0, 5, 4, 1, 2, 3, 7, 5, 6,\n",
       "       2, 2, 7, 4, 1, 9, 0, 3, 8, 5, 7, 6, 6, 2, 1, 5, 9, 6, 6, 3, 7, 4,\n",
       "       9, 4, 9, 2, 3, 1, 9, 1, 2, 5, 7, 6, 5, 6, 1], dtype=int64)"
      ]
     },
     "execution_count": 367,
     "metadata": {},
     "output_type": "execute_result"
    }
   ],
   "source": [
    "y_pred"
   ]
  },
  {
   "cell_type": "code",
   "execution_count": 368,
   "metadata": {},
   "outputs": [
    {
     "data": {
      "text/plain": [
       "array([ True,  True,  True,  True,  True,  True,  True,  True,  True,\n",
       "        True,  True,  True,  True,  True,  True,  True,  True,  True,\n",
       "        True,  True,  True,  True,  True,  True,  True,  True,  True,\n",
       "        True,  True,  True,  True,  True,  True, False,  True,  True,\n",
       "        True,  True,  True,  True,  True,  True,  True,  True,  True,\n",
       "        True,  True,  True,  True,  True,  True,  True,  True,  True,\n",
       "        True, False,  True,  True,  True,  True,  True, False, False,\n",
       "        True,  True,  True,  True,  True,  True,  True,  True,  True,\n",
       "        True,  True,  True,  True,  True, False,  True,  True,  True])"
      ]
     },
     "execution_count": 368,
     "metadata": {},
     "output_type": "execute_result"
    }
   ],
   "source": [
    "y_pred == y_test"
   ]
  },
  {
   "cell_type": "markdown",
   "metadata": {},
   "source": [
    "#### Analiza otrzymanych wyników"
   ]
  },
  {
   "cell_type": "code",
   "execution_count": 369,
   "metadata": {},
   "outputs": [],
   "source": [
    "from sklearn.metrics import classification_report,confusion_matrix"
   ]
  },
  {
   "cell_type": "code",
   "execution_count": 370,
   "metadata": {},
   "outputs": [
    {
     "name": "stdout",
     "output_type": "stream",
     "text": [
      "              precision    recall  f1-score   support\n",
      "\n",
      "           0       1.00      1.00      1.00         5\n",
      "           1       1.00      1.00      1.00        10\n",
      "           2       1.00      1.00      1.00         8\n",
      "           3       1.00      1.00      1.00        10\n",
      "           4       1.00      1.00      1.00         9\n",
      "           5       1.00      1.00      1.00         9\n",
      "           6       0.55      1.00      0.71         6\n",
      "           7       1.00      1.00      1.00         8\n",
      "           8       1.00      0.38      0.55         8\n",
      "           9       1.00      1.00      1.00         8\n",
      "\n",
      "    accuracy                           0.94        81\n",
      "   macro avg       0.95      0.94      0.93        81\n",
      "weighted avg       0.97      0.94      0.93        81\n",
      "\n"
     ]
    }
   ],
   "source": [
    "print(classification_report(y_test,y_pred))"
   ]
  },
  {
   "cell_type": "code",
   "execution_count": 371,
   "metadata": {},
   "outputs": [
    {
     "data": {
      "text/plain": [
       "<AxesSubplot:>"
      ]
     },
     "execution_count": 371,
     "metadata": {},
     "output_type": "execute_result"
    },
    {
     "data": {
      "image/png": "[encoded data removed]",
      "text/plain": [
       "<Figure size 720x432 with 2 Axes>"
      ]
     },
     "metadata": {
      "needs_background": "light"
     },
     "output_type": "display_data"
    }
   ],
   "source": [
    "plt.figure(figsize=(10,6))\n",
    "sns.heatmap(confusion_matrix(y_test,y_pred),annot=True)"
   ]
  },
  {
   "cell_type": "markdown",
   "metadata": {},
   "source": [
    "##### Wnioski:\n",
    "Łatwo można zaobserwować, że niestety ale występują pomyłki. Możnaby spróbować dodać więcj wariancji do generatora lub po prostu więcj danych uczącyh, ale wydaje mi się, ze wyniki tego klasyfikatora są zdecydowanie zadowalające."
   ]
  },
  {
   "cell_type": "markdown",
   "metadata": {},
   "source": [
    "#### Użycie modelu do rzeczywistej predykcji"
   ]
  },
  {
   "cell_type": "code",
   "execution_count": 372,
   "metadata": {},
   "outputs": [],
   "source": [
    "my_number = x_test[8]"
   ]
  },
  {
   "cell_type": "code",
   "execution_count": 373,
   "metadata": {},
   "outputs": [
    {
     "data": {
      "text/plain": [
       "<matplotlib.image.AxesImage at 0x21b58458898>"
      ]
     },
     "execution_count": 373,
     "metadata": {},
     "output_type": "execute_result"
    },
    {
     "data": {
      "image/png": "[encoded data removed]",
      "text/plain": [
       "<Figure size 432x288 with 1 Axes>"
      ]
     },
     "metadata": {
      "needs_background": "light"
     },
     "output_type": "display_data"
    }
   ],
   "source": [
    "plt.imshow(my_number)"
   ]
  },
  {
   "cell_type": "code",
   "execution_count": 374,
   "metadata": {},
   "outputs": [
    {
     "data": {
      "text/plain": [
       "array([0], dtype=int64)"
      ]
     },
     "execution_count": 374,
     "metadata": {},
     "output_type": "execute_result"
    }
   ],
   "source": [
    "model.predict_classes(my_number.reshape(1,20,20,3))"
   ]
  },
  {
   "cell_type": "markdown",
   "metadata": {},
   "source": [
    "---\n",
    "---\n",
    "Historia zmian:\n",
    "* wersja r.akad 20/21: 9.11.2020 (MI)"
   ]
  }
 ],
 "metadata": {
  "kernelspec": {
   "display_name": "Python 3",
   "language": "python",
   "name": "python3"
  },
  "language_info": {
   "codemirror_mode": {
    "name": "ipython",
    "version": 3
   },
   "file_extension": ".py",
   "mimetype": "text/x-python",
   "name": "python",
   "nbconvert_exporter": "python",
   "pygments_lexer": "ipython3",
   "version": "3.6.12"
  }
 },
 "nbformat": 4,
 "nbformat_minor": 4
}
